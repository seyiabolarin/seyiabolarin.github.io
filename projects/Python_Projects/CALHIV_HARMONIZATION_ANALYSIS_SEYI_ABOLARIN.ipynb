{
 "cells": [
  {
   "cell_type": "markdown",
   "id": "963bfdda",
   "metadata": {},
   "source": [
    "CHILDREN AND ADOLESCENT LIVING WITH HIV (CALHIV) HARMONIZATION DATA ANALYSIS BETWEEN USAID TREATMENT AND OVC IPs"
   ]
  },
  {
   "cell_type": "code",
   "execution_count": 1,
   "id": "3b2e70cd",
   "metadata": {},
   "outputs": [],
   "source": [
    "#Prepare the neccessary Library\n",
    "import pandas as pd\n",
    "import re\n",
    "import os\n",
    "# Define the folder path (RADET folder on the desktop)\n",
    "folder_path = os.path.expanduser('/Users/seyiabolarin/Desktop/CALHIV Analysis/03.09.2024')\n",
    "\n",
    "# Ensure the folder exists\n",
    "if not os.path.exists(folder_path):\n",
    "    os.makedirs(folder_path)"
   ]
  },
  {
   "cell_type": "code",
   "execution_count": 3,
   "id": "322f90f0",
   "metadata": {},
   "outputs": [],
   "source": [
    "#Load all the first radet file\n",
    "radet1 = pd.read_excel('/Users/seyiabolarin/Desktop/CALHIV Analysis/Week 34 CALHIV/__ACE1_ACE2_ACE3_ACE4_ACE6_SFH_COMBINED_RADET_24-08-2024.xlsx')"
   ]
  },
  {
   "cell_type": "code",
   "execution_count": 4,
   "id": "650b9d10",
   "metadata": {},
   "outputs": [],
   "source": [
    "#Load the second radet\n",
    "radet2 = pd.read_excel('/Users/seyiabolarin/Desktop/CALHIV Analysis/Week 34 CALHIV/__ACE5_KPC1_RISE_COMBINED RADET_23-08-2024.xlsx')"
   ]
  },
  {
   "cell_type": "code",
   "execution_count": 5,
   "id": "fff40fe8",
   "metadata": {},
   "outputs": [],
   "source": [
    "# Concatenate the DataFrames\n",
    "merged_radet = pd.concat([radet1, radet2], ignore_index=True)"
   ]
  },
  {
   "cell_type": "code",
   "execution_count": 6,
   "id": "ae38d52d",
   "metadata": {},
   "outputs": [
    {
     "name": "stdout",
     "output_type": "stream",
     "text": [
      "['IP', 'State', 'L.G.A', 'LGA Of Residence', 'Facility Name', 'DatimId', 'Patient ID', 'NDR Patient Identifier', 'Hospital Number', 'Unique Id', 'Household Unique No', 'OVC Unique ID', 'Sex', 'Target group', 'Current Weight (kg)', 'Pregnancy Status', 'Date of Birth (yyyy-mm-dd)', 'Age', 'Care Entry Point', 'Date of Registration', 'Enrollment  Date (yyyy-mm-dd)', 'ART Start Date (yyyy-mm-dd)', 'Last Pickup Date (yyyy-mm-dd)', 'Months of ARV Refill', 'Regimen Line at ART Start', 'Regimen at ART Start', 'Date of Start of Current ART Regimen', 'Current Regimen Line', 'Current ART Regimen', 'Clinical Staging at Last Visit', 'Date of Last CD4 Count', 'Last CD4 Count', 'Date of Viral Load Sample Collection (yyyy-mm-dd)', 'Date of Current ViralLoad Result Sample (yyyy-mm-dd)', 'Current Viral Load (c/ml)', 'Date of Current Viral Load (yyyy-mm-dd)', 'Viral Load Indication', 'Viral Load Eligibility Status', 'Date of Viral Load Eligibility Status', 'Current ART Status', 'Date of Current ART Status', 'Client Verification Outcome', 'Cause of Death', 'VA Cause of Death', 'Previous ART Status', 'Confirmed Date of Previous ART Status', 'ART Enrollment Setting', 'TB Screening Type', 'Date of TB Screening (yyyy-mm-dd)', 'TB status', 'Date of TB Sample Collection (yyyy-mm-dd)', 'TB Diagnostic Test Type', 'Date of TB Diagnostic Result Received (yyyy-mm-dd)', 'TB Diagnostic Result', 'Date of Start of TB Treatment (yyyy-mm-dd)', 'TB Type (new, relapsed etc)', 'Date of Completion of TB Treatment (yyyy-mm-dd)', 'TB Treatment Outcome', 'Date of TPT Start (yyyy-mm-dd)', 'TPT Type', 'TPT Completion date (yyyy-mm-dd)', 'TPT Completion status', 'Date of commencement of EAC (yyyy-mm-dd)', 'Number of EAC Sessions Completed', 'Date of last EAC Session Completed', 'Date of Extended EAC Completion (yyyy-mm-dd)', 'Date of Repeat Viral Load - Post EAC VL Sample collected (yyyy-mm-dd)', 'Repeat Viral load result (c/ml)- POST EAC', 'Date of Repeat Viral load result- POST EAC VL', 'Current DSD model', 'Date of current DSD', 'Date of Return of DSD Client to Facility (yyyy-mm-dd)', 'Model devolved to', 'Date of devolvement', 'Screening for Chronic Conditions', 'Co-morbidities', 'Date of Cervical Cancer Screening (yyyy-mm-dd)', 'Cervical Cancer Screening Type', 'Cervical Cancer Screening Method', 'Result of Cervical Cancer Screening', 'Date of Precancerous Lesions Treatment (yyyy-mm-dd)', 'Precancerous Lesions Treatment Methods', 'Date Biometrics Enrolled (yyyy-mm-dd)', 'Number of Fingers Captured', 'Date Biometrics Recapture (yyyy-mm-dd)', 'Number of Fingers Recaptured', 'Case Manager', 'Current DSD Outlet']\n"
     ]
    }
   ],
   "source": [
    "radet_list = list(merged_radet.columns)\n",
    "print(radet_list)"
   ]
  },
  {
   "cell_type": "code",
   "execution_count": 7,
   "id": "0fd94d01",
   "metadata": {},
   "outputs": [],
   "source": [
    "#converting all date to date format\n",
    "merged_radet['Date of Birth (yyyy-mm-dd)'] = pd.to_datetime(merged_radet['Date of Birth (yyyy-mm-dd)'], errors='coerce')\n",
    "merged_radet['Date of Registration'] = pd.to_datetime(merged_radet['Date of Registration'], errors='coerce')\n",
    "merged_radet['Enrollment  Date (yyyy-mm-dd)'] = pd.to_datetime(merged_radet['Enrollment  Date (yyyy-mm-dd)'], errors='coerce')\n",
    "merged_radet['ART Start Date (yyyy-mm-dd)'] = pd.to_datetime(merged_radet['ART Start Date (yyyy-mm-dd)'], errors='coerce')\n",
    "merged_radet['Last Pickup Date (yyyy-mm-dd)'] = pd.to_datetime(merged_radet['Last Pickup Date (yyyy-mm-dd)'], errors='coerce')\n",
    "merged_radet['Date of Start of Current ART Regimen'] = pd.to_datetime(merged_radet['Date of Start of Current ART Regimen'], errors='coerce')\n",
    "merged_radet['Date of Last CD4 Count'] = pd.to_datetime(merged_radet['Date of Last CD4 Count'], errors='coerce')\n",
    "merged_radet['Date of Viral Load Sample Collection (yyyy-mm-dd)'] = pd.to_datetime(merged_radet['Date of Viral Load Sample Collection (yyyy-mm-dd)'], errors='coerce')\n",
    "merged_radet['Date of Current ViralLoad Result Sample (yyyy-mm-dd)'] = pd.to_datetime(merged_radet['Date of Current ViralLoad Result Sample (yyyy-mm-dd)'], errors='coerce')\n",
    "merged_radet['Date of Current Viral Load (yyyy-mm-dd)'] = pd.to_datetime(merged_radet['Date of Current Viral Load (yyyy-mm-dd)'], errors='coerce')\n",
    "merged_radet['Date of Viral Load Eligibility Status'] = pd.to_datetime(merged_radet['Date of Viral Load Eligibility Status'], errors='coerce')\n",
    "merged_radet['Confirmed Date of Previous ART Status'] = pd.to_datetime(merged_radet['Confirmed Date of Previous ART Status'], errors='coerce')\n",
    "merged_radet['Date of TB Screening (yyyy-mm-dd)'] = pd.to_datetime(merged_radet['Date of TB Screening (yyyy-mm-dd)'], errors='coerce')\n",
    "merged_radet['Date of TB Sample Collection (yyyy-mm-dd)'] = pd.to_datetime(merged_radet['Date of TB Sample Collection (yyyy-mm-dd)'], errors='coerce')\n",
    "merged_radet['Date of TB Diagnostic Result Received (yyyy-mm-dd)'] = pd.to_datetime(merged_radet['Date of TB Diagnostic Result Received (yyyy-mm-dd)'], errors='coerce')\n",
    "merged_radet['Date of Start of TB Treatment (yyyy-mm-dd)'] = pd.to_datetime(merged_radet['Date of Start of TB Treatment (yyyy-mm-dd)'], errors='coerce')\n",
    "merged_radet['Date of Completion of TB Treatment (yyyy-mm-dd)'] = pd.to_datetime(merged_radet['Date of Completion of TB Treatment (yyyy-mm-dd)'], errors='coerce')\n",
    "merged_radet['Date of TPT Start (yyyy-mm-dd)'] = pd.to_datetime(merged_radet['Date of TPT Start (yyyy-mm-dd)'], errors='coerce')\n",
    "merged_radet['TPT Completion date (yyyy-mm-dd)'] = pd.to_datetime(merged_radet['TPT Completion date (yyyy-mm-dd)'], errors='coerce')\n",
    "merged_radet['Date of commencement of EAC (yyyy-mm-dd)'] = pd.to_datetime(merged_radet['Date of commencement of EAC (yyyy-mm-dd)'], errors='coerce')\n",
    "merged_radet['Date of last EAC Session Completed'] = pd.to_datetime(merged_radet['Date of last EAC Session Completed'], errors='coerce')\n",
    "merged_radet['Date of Extended EAC Completion (yyyy-mm-dd)'] = pd.to_datetime(merged_radet['Date of Extended EAC Completion (yyyy-mm-dd)'], errors='coerce')\n",
    "merged_radet['Date of Repeat Viral load result- POST EAC VL'] = pd.to_datetime(merged_radet['Date of Repeat Viral load result- POST EAC VL'], errors='coerce')\n",
    "merged_radet['Date of devolvement'] = pd.to_datetime(merged_radet['Date of devolvement'], errors='coerce')\n",
    "merged_radet['Date of current DSD'] = pd.to_datetime(merged_radet['Date of current DSD'], errors='coerce')\n",
    "merged_radet['Date of Return of DSD Client to Facility (yyyy-mm-dd)'] = pd.to_datetime(merged_radet['Date of Return of DSD Client to Facility (yyyy-mm-dd)'], errors='coerce')\n",
    "merged_radet['Date of Cervical Cancer Screening (yyyy-mm-dd)'] = pd.to_datetime(merged_radet['Date of Cervical Cancer Screening (yyyy-mm-dd)'], errors='coerce')\n",
    "merged_radet['Date of Precancerous Lesions Treatment (yyyy-mm-dd)'] = pd.to_datetime(merged_radet['Date of Precancerous Lesions Treatment (yyyy-mm-dd)'], errors='coerce')\n",
    "merged_radet['Date Biometrics Enrolled (yyyy-mm-dd)'] = pd.to_datetime(merged_radet['Date Biometrics Enrolled (yyyy-mm-dd)'], errors='coerce')\n",
    "merged_radet['Date Biometrics Recapture (yyyy-mm-dd)'] = pd.to_datetime(merged_radet['Date Biometrics Recapture (yyyy-mm-dd)'], errors='coerce')"
   ]
  },
  {
   "cell_type": "code",
   "execution_count": 8,
   "id": "a2d568d3",
   "metadata": {},
   "outputs": [],
   "source": [
    "# Combine the folder path with the filename\n",
    "file_path = os.path.join(folder_path, 'merged_radet.csv')\n",
    "# Save the file to the specified folder\n",
    "merged_radet.to_csv(file_path, index=False)"
   ]
  },
  {
   "cell_type": "code",
   "execution_count": 9,
   "id": "2efeb9f2",
   "metadata": {},
   "outputs": [],
   "source": [
    "# Specify the columns you are interested in working with on the merged radet\n",
    "radet_variables_needed = merged_radet[['IP','State', 'L.G.A','Facility Name','Patient ID','Hospital Number','NDR Patient Identifier','Household Unique No','OVC Unique ID','Sex','Date of Birth (yyyy-mm-dd)','Age','ART Start Date (yyyy-mm-dd)','Last Pickup Date (yyyy-mm-dd)','Months of ARV Refill','Date of Viral Load Sample Collection (yyyy-mm-dd)','Date of Current ViralLoad Result Sample (yyyy-mm-dd)','Current Viral Load (c/ml)','Date of Current Viral Load (yyyy-mm-dd)','Current ART Status','Date of Current ART Status','Client Verification Outcome']]"
   ]
  },
  {
   "cell_type": "code",
   "execution_count": 10,
   "id": "96b62fd7",
   "metadata": {},
   "outputs": [],
   "source": [
    "# Filter out from the client verification outcome the valid and blanks to determine the actual TX_CURR\n",
    "verification_outcome = ['Client Verification Outcome']"
   ]
  },
  {
   "cell_type": "code",
   "execution_count": 11,
   "id": "002f4e4e",
   "metadata": {},
   "outputs": [],
   "source": [
    "# Get the unique variables in the client verification outcome\n",
    "unique_verification_outcome = radet_variables_needed['Client Verification Outcome'].unique()"
   ]
  },
  {
   "cell_type": "code",
   "execution_count": 12,
   "id": "b03009cf",
   "metadata": {},
   "outputs": [
    {
     "data": {
      "text/plain": [
       "array(['valid', nan, 'invalid', 'Verification Ongoing', 'Valid'],\n",
       "      dtype=object)"
      ]
     },
     "execution_count": 12,
     "metadata": {},
     "output_type": "execute_result"
    }
   ],
   "source": [
    "unique_verification_outcome"
   ]
  },
  {
   "cell_type": "code",
   "execution_count": 13,
   "id": "f4003b9c",
   "metadata": {},
   "outputs": [],
   "source": [
    "# Filter for clients who have unverified status first\n",
    "client_with_unverified_status = radet_variables_needed[radet_variables_needed['Client Verification Outcome'].isin(['invalid', 'Verification Ongoing', 'Invalid'])]"
   ]
  },
  {
   "cell_type": "code",
   "execution_count": 14,
   "id": "8eefe4c7",
   "metadata": {},
   "outputs": [],
   "source": [
    "#Filter for clients with verified and blank status\n",
    "client_with_verified_blank_status = radet_variables_needed[~radet_variables_needed['Client Verification Outcome'].isin(['invalid', 'Verification Ongoing', 'Invalid'])]"
   ]
  },
  {
   "cell_type": "code",
   "execution_count": 15,
   "id": "bf335355",
   "metadata": {},
   "outputs": [],
   "source": [
    "# Generate the clients with verified blank status\n",
    "file_path = os.path.join(folder_path, 'client_with_verified_blank_status.csv')\n",
    "# Save the file to the specified folder\n",
    "client_with_verified_blank_status.to_csv(file_path, index=False)"
   ]
  },
  {
   "cell_type": "code",
   "execution_count": 16,
   "id": "7a2221dd",
   "metadata": {},
   "outputs": [],
   "source": [
    "# Filter clients who are within the OVC age of <1 - 20\n",
    "verified_blank_clients_within_OVC_age = client_with_verified_blank_status[(client_with_verified_blank_status['Age'] < 1) | (client_with_verified_blank_status['Age'] <= 20)]"
   ]
  },
  {
   "cell_type": "code",
   "execution_count": 17,
   "id": "8b1045b1",
   "metadata": {},
   "outputs": [],
   "source": [
    "# Focus on the Current ART Status\n",
    "ART_Status = ['Current ART Status']"
   ]
  },
  {
   "cell_type": "code",
   "execution_count": 18,
   "id": "d38ab853",
   "metadata": {},
   "outputs": [],
   "source": [
    "#Get the Unique Current ART Status\n",
    "ART_Status_categories = verified_blank_clients_within_OVC_age['Current ART Status'].unique()"
   ]
  },
  {
   "cell_type": "code",
   "execution_count": 19,
   "id": "043ab211",
   "metadata": {},
   "outputs": [
    {
     "data": {
      "text/plain": [
       "array(['Active', 'IIT', 'Transferred Out', 'Died', 'Active Restart',\n",
       "       'Invalid - Biometrical Naive', 'Stopped Treatment',\n",
       "       'Invalid - Duplicates', 'Invalid - Nonexistent', nan], dtype=object)"
      ]
     },
     "execution_count": 19,
     "metadata": {},
     "output_type": "execute_result"
    }
   ],
   "source": [
    "#List all the Current ART Status\n",
    "ART_Status_categories"
   ]
  },
  {
   "cell_type": "code",
   "execution_count": 20,
   "id": "1a30a65c",
   "metadata": {},
   "outputs": [],
   "source": [
    "#Filter from the Current ART Status for Active, Active Restart, and Invalid - Biometrical Naive clients\n",
    "TX_CURR = verified_blank_clients_within_OVC_age[verified_blank_clients_within_OVC_age['Current ART Status'].isin(['Active', 'Active Restart','Invalid - Biometrical Naive'])]"
   ]
  },
  {
   "cell_type": "code",
   "execution_count": 21,
   "id": "90fb6227",
   "metadata": {},
   "outputs": [],
   "source": [
    "# Generate the TX_CURR file\n",
    "file_path = os.path.join(folder_path, 'TX_CURR.csv')\n",
    "# Save the file to the specified folder\n",
    "TX_CURR.to_csv(file_path, index=False)"
   ]
  },
  {
   "cell_type": "code",
   "execution_count": 22,
   "id": "5f12a3d6",
   "metadata": {},
   "outputs": [],
   "source": [
    "# Group by Implementing Partner, and State and count the clients using the NDR Patient Identifier\n",
    "TX_CURR_Count = TX_CURR.groupby(['IP', 'State']).size().reset_index(name='NDR Patient Identifier')"
   ]
  },
  {
   "cell_type": "code",
   "execution_count": 23,
   "id": "be2e67be",
   "metadata": {},
   "outputs": [
    {
     "data": {
      "text/html": [
       "<div>\n",
       "<style scoped>\n",
       "    .dataframe tbody tr th:only-of-type {\n",
       "        vertical-align: middle;\n",
       "    }\n",
       "\n",
       "    .dataframe tbody tr th {\n",
       "        vertical-align: top;\n",
       "    }\n",
       "\n",
       "    .dataframe thead th {\n",
       "        text-align: right;\n",
       "    }\n",
       "</style>\n",
       "<table border=\"1\" class=\"dataframe\">\n",
       "  <thead>\n",
       "    <tr style=\"text-align: right;\">\n",
       "      <th></th>\n",
       "      <th>IP</th>\n",
       "      <th>State</th>\n",
       "      <th>NDR Patient Identifier</th>\n",
       "    </tr>\n",
       "  </thead>\n",
       "  <tbody>\n",
       "    <tr>\n",
       "      <th>0</th>\n",
       "      <td>ACE-1</td>\n",
       "      <td>Adamawa</td>\n",
       "      <td>1827</td>\n",
       "    </tr>\n",
       "    <tr>\n",
       "      <th>1</th>\n",
       "      <td>ACE-1</td>\n",
       "      <td>Borno</td>\n",
       "      <td>1177</td>\n",
       "    </tr>\n",
       "    <tr>\n",
       "      <th>2</th>\n",
       "      <td>ACE-1</td>\n",
       "      <td>Yobe</td>\n",
       "      <td>630</td>\n",
       "    </tr>\n",
       "    <tr>\n",
       "      <th>3</th>\n",
       "      <td>ACE-2</td>\n",
       "      <td>Bauchi</td>\n",
       "      <td>1268</td>\n",
       "    </tr>\n",
       "    <tr>\n",
       "      <th>4</th>\n",
       "      <td>ACE-2</td>\n",
       "      <td>Jigawa</td>\n",
       "      <td>540</td>\n",
       "    </tr>\n",
       "    <tr>\n",
       "      <th>5</th>\n",
       "      <td>ACE-2</td>\n",
       "      <td>Kano</td>\n",
       "      <td>2129</td>\n",
       "    </tr>\n",
       "    <tr>\n",
       "      <th>6</th>\n",
       "      <td>ACE-3</td>\n",
       "      <td>Kebbi</td>\n",
       "      <td>925</td>\n",
       "    </tr>\n",
       "    <tr>\n",
       "      <th>7</th>\n",
       "      <td>ACE-3</td>\n",
       "      <td>Sokoto</td>\n",
       "      <td>623</td>\n",
       "    </tr>\n",
       "    <tr>\n",
       "      <th>8</th>\n",
       "      <td>ACE-3</td>\n",
       "      <td>Zamfara</td>\n",
       "      <td>480</td>\n",
       "    </tr>\n",
       "    <tr>\n",
       "      <th>9</th>\n",
       "      <td>ACE-4</td>\n",
       "      <td>Niger</td>\n",
       "      <td>1874</td>\n",
       "    </tr>\n",
       "    <tr>\n",
       "      <th>10</th>\n",
       "      <td>ACE-5</td>\n",
       "      <td>Akwa Ibom</td>\n",
       "      <td>6487</td>\n",
       "    </tr>\n",
       "    <tr>\n",
       "      <th>11</th>\n",
       "      <td>ACE-5</td>\n",
       "      <td>Cross River</td>\n",
       "      <td>2203</td>\n",
       "    </tr>\n",
       "    <tr>\n",
       "      <th>12</th>\n",
       "      <td>ACE-6</td>\n",
       "      <td>Bayelsa</td>\n",
       "      <td>669</td>\n",
       "    </tr>\n",
       "    <tr>\n",
       "      <th>13</th>\n",
       "      <td>ACE-6</td>\n",
       "      <td>Edo</td>\n",
       "      <td>1726</td>\n",
       "    </tr>\n",
       "    <tr>\n",
       "      <th>14</th>\n",
       "      <td>ACE-6</td>\n",
       "      <td>Lagos</td>\n",
       "      <td>2439</td>\n",
       "    </tr>\n",
       "    <tr>\n",
       "      <th>15</th>\n",
       "      <td>KP CARE 1</td>\n",
       "      <td>Akwa Ibom</td>\n",
       "      <td>368</td>\n",
       "    </tr>\n",
       "    <tr>\n",
       "      <th>16</th>\n",
       "      <td>KP CARE 1</td>\n",
       "      <td>Bayelsa</td>\n",
       "      <td>166</td>\n",
       "    </tr>\n",
       "    <tr>\n",
       "      <th>17</th>\n",
       "      <td>KP CARE 1</td>\n",
       "      <td>Cross River</td>\n",
       "      <td>281</td>\n",
       "    </tr>\n",
       "    <tr>\n",
       "      <th>18</th>\n",
       "      <td>KP CARE 1</td>\n",
       "      <td>Edo</td>\n",
       "      <td>50</td>\n",
       "    </tr>\n",
       "    <tr>\n",
       "      <th>19</th>\n",
       "      <td>KP CARE 1</td>\n",
       "      <td>Jigawa</td>\n",
       "      <td>32</td>\n",
       "    </tr>\n",
       "    <tr>\n",
       "      <th>20</th>\n",
       "      <td>KP CARE 1</td>\n",
       "      <td>Lagos</td>\n",
       "      <td>371</td>\n",
       "    </tr>\n",
       "    <tr>\n",
       "      <th>21</th>\n",
       "      <td>KP CARE 1</td>\n",
       "      <td>Niger</td>\n",
       "      <td>62</td>\n",
       "    </tr>\n",
       "    <tr>\n",
       "      <th>22</th>\n",
       "      <td>KP CARE 1</td>\n",
       "      <td>Yobe</td>\n",
       "      <td>29</td>\n",
       "    </tr>\n",
       "    <tr>\n",
       "      <th>23</th>\n",
       "      <td>KP CARE 2</td>\n",
       "      <td>Adamawa</td>\n",
       "      <td>249</td>\n",
       "    </tr>\n",
       "    <tr>\n",
       "      <th>24</th>\n",
       "      <td>KP CARE 2</td>\n",
       "      <td>Bauchi</td>\n",
       "      <td>93</td>\n",
       "    </tr>\n",
       "    <tr>\n",
       "      <th>25</th>\n",
       "      <td>KP CARE 2</td>\n",
       "      <td>Borno</td>\n",
       "      <td>358</td>\n",
       "    </tr>\n",
       "    <tr>\n",
       "      <th>26</th>\n",
       "      <td>KP CARE 2</td>\n",
       "      <td>Kano</td>\n",
       "      <td>138</td>\n",
       "    </tr>\n",
       "    <tr>\n",
       "      <th>27</th>\n",
       "      <td>KP CARE 2</td>\n",
       "      <td>Kebbi</td>\n",
       "      <td>570</td>\n",
       "    </tr>\n",
       "    <tr>\n",
       "      <th>28</th>\n",
       "      <td>KP CARE 2</td>\n",
       "      <td>Sokoto</td>\n",
       "      <td>351</td>\n",
       "    </tr>\n",
       "    <tr>\n",
       "      <th>29</th>\n",
       "      <td>KP CARE 2</td>\n",
       "      <td>Taraba</td>\n",
       "      <td>87</td>\n",
       "    </tr>\n",
       "    <tr>\n",
       "      <th>30</th>\n",
       "      <td>KP CARE 2</td>\n",
       "      <td>Zamfara</td>\n",
       "      <td>211</td>\n",
       "    </tr>\n",
       "    <tr>\n",
       "      <th>31</th>\n",
       "      <td>TMEC-RISE</td>\n",
       "      <td>Taraba</td>\n",
       "      <td>2872</td>\n",
       "    </tr>\n",
       "  </tbody>\n",
       "</table>\n",
       "</div>"
      ],
      "text/plain": [
       "           IP        State  NDR Patient Identifier\n",
       "0       ACE-1      Adamawa                    1827\n",
       "1       ACE-1        Borno                    1177\n",
       "2       ACE-1         Yobe                     630\n",
       "3       ACE-2       Bauchi                    1268\n",
       "4       ACE-2       Jigawa                     540\n",
       "5       ACE-2         Kano                    2129\n",
       "6       ACE-3        Kebbi                     925\n",
       "7       ACE-3       Sokoto                     623\n",
       "8       ACE-3      Zamfara                     480\n",
       "9       ACE-4        Niger                    1874\n",
       "10      ACE-5    Akwa Ibom                    6487\n",
       "11      ACE-5  Cross River                    2203\n",
       "12      ACE-6      Bayelsa                     669\n",
       "13      ACE-6          Edo                    1726\n",
       "14      ACE-6        Lagos                    2439\n",
       "15  KP CARE 1    Akwa Ibom                     368\n",
       "16  KP CARE 1      Bayelsa                     166\n",
       "17  KP CARE 1  Cross River                     281\n",
       "18  KP CARE 1          Edo                      50\n",
       "19  KP CARE 1       Jigawa                      32\n",
       "20  KP CARE 1        Lagos                     371\n",
       "21  KP CARE 1        Niger                      62\n",
       "22  KP CARE 1         Yobe                      29\n",
       "23  KP CARE 2      Adamawa                     249\n",
       "24  KP CARE 2       Bauchi                      93\n",
       "25  KP CARE 2        Borno                     358\n",
       "26  KP CARE 2         Kano                     138\n",
       "27  KP CARE 2        Kebbi                     570\n",
       "28  KP CARE 2       Sokoto                     351\n",
       "29  KP CARE 2       Taraba                      87\n",
       "30  KP CARE 2      Zamfara                     211\n",
       "31  TMEC-RISE       Taraba                    2872"
      ]
     },
     "execution_count": 23,
     "metadata": {},
     "output_type": "execute_result"
    }
   ],
   "source": [
    "TX_CURR_Count"
   ]
  },
  {
   "cell_type": "code",
   "execution_count": 24,
   "id": "acf34d24",
   "metadata": {},
   "outputs": [],
   "source": [
    "# Generate the TX_CURR_Count\n",
    "file_path = os.path.join(folder_path, 'TX_CURR_Count.csv')\n",
    "# Save the file to the specified folder\n",
    "TX_CURR_Count.to_csv(file_path, index=False)"
   ]
  },
  {
   "cell_type": "code",
   "execution_count": 25,
   "id": "c4b11950",
   "metadata": {},
   "outputs": [
    {
     "name": "stderr",
     "output_type": "stream",
     "text": [
      "/var/folders/s0/wn3tsb5j0f33bv1nfqclc_tm0000gn/T/ipykernel_56388/2561258801.py:2: SettingWithCopyWarning: \n",
      "A value is trying to be set on a copy of a slice from a DataFrame.\n",
      "Try using .loc[row_indexer,col_indexer] = value instead\n",
      "\n",
      "See the caveats in the documentation: https://pandas.pydata.org/pandas-docs/stable/user_guide/indexing.html#returning-a-view-versus-a-copy\n",
      "  TX_CURR['OVC Unique ID'] = TX_CURR['OVC Unique ID'].str.strip()\n"
     ]
    }
   ],
   "source": [
    "# Remove any leading or trailing spaces in the OVC_Unique_ID column of the RADET\n",
    "TX_CURR['OVC Unique ID'] = TX_CURR['OVC Unique ID'].str.strip()"
   ]
  },
  {
   "cell_type": "code",
   "execution_count": 50,
   "id": "d23adb62",
   "metadata": {},
   "outputs": [],
   "source": [
    "# Define the regex pattern for the correct OVC Unique ID format in the RADET\n",
    "pattern1 = r'^\\w{3}/\\w{3}/\\w{3}/\\w{5}/\\w{1,5}$'"
   ]
  },
  {
   "cell_type": "code",
   "execution_count": 61,
   "id": "1446b4f1",
   "metadata": {},
   "outputs": [],
   "source": [
    "# Filter for rows where the OVC Unique ID matches the pattern\n",
    "clients_with_correct_OVC_Unique_ID = TX_CURR[TX_CURR['OVC Unique ID'].apply(lambda x: bool(re.match(pattern1, str(x))))]"
   ]
  },
  {
   "cell_type": "code",
   "execution_count": 62,
   "id": "ae04ac03",
   "metadata": {},
   "outputs": [],
   "source": [
    "# Generate the clients_with_correct_OVC_Unique_ID file\n",
    "file_path = os.path.join(folder_path, 'clients_with_correct_OVC_Unique_ID.csv')\n",
    "# Save the file to the specified folder\n",
    "clients_with_correct_OVC_Unique_ID.to_csv(file_path, index=False)"
   ]
  },
  {
   "cell_type": "code",
   "execution_count": 63,
   "id": "3d49bfdc",
   "metadata": {},
   "outputs": [],
   "source": [
    "# Group by Implementing Partner and State and count the clients with OVC Unique ID From the Radet\n",
    "clients_with_correct_OVC_Unique_ID_count = clients_with_correct_OVC_Unique_ID.groupby(['IP', 'State']).size().reset_index(name='NDR Patient Identifier')"
   ]
  },
  {
   "cell_type": "code",
   "execution_count": 64,
   "id": "5b9f58f4",
   "metadata": {},
   "outputs": [
    {
     "data": {
      "text/html": [
       "<div>\n",
       "<style scoped>\n",
       "    .dataframe tbody tr th:only-of-type {\n",
       "        vertical-align: middle;\n",
       "    }\n",
       "\n",
       "    .dataframe tbody tr th {\n",
       "        vertical-align: top;\n",
       "    }\n",
       "\n",
       "    .dataframe thead th {\n",
       "        text-align: right;\n",
       "    }\n",
       "</style>\n",
       "<table border=\"1\" class=\"dataframe\">\n",
       "  <thead>\n",
       "    <tr style=\"text-align: right;\">\n",
       "      <th></th>\n",
       "      <th>IP</th>\n",
       "      <th>State</th>\n",
       "      <th>NDR Patient Identifier</th>\n",
       "    </tr>\n",
       "  </thead>\n",
       "  <tbody>\n",
       "    <tr>\n",
       "      <th>0</th>\n",
       "      <td>ACE-1</td>\n",
       "      <td>Adamawa</td>\n",
       "      <td>1332</td>\n",
       "    </tr>\n",
       "    <tr>\n",
       "      <th>1</th>\n",
       "      <td>ACE-1</td>\n",
       "      <td>Borno</td>\n",
       "      <td>475</td>\n",
       "    </tr>\n",
       "    <tr>\n",
       "      <th>2</th>\n",
       "      <td>ACE-1</td>\n",
       "      <td>Yobe</td>\n",
       "      <td>246</td>\n",
       "    </tr>\n",
       "    <tr>\n",
       "      <th>3</th>\n",
       "      <td>ACE-2</td>\n",
       "      <td>Bauchi</td>\n",
       "      <td>869</td>\n",
       "    </tr>\n",
       "    <tr>\n",
       "      <th>4</th>\n",
       "      <td>ACE-2</td>\n",
       "      <td>Jigawa</td>\n",
       "      <td>204</td>\n",
       "    </tr>\n",
       "    <tr>\n",
       "      <th>5</th>\n",
       "      <td>ACE-2</td>\n",
       "      <td>Kano</td>\n",
       "      <td>668</td>\n",
       "    </tr>\n",
       "    <tr>\n",
       "      <th>6</th>\n",
       "      <td>ACE-3</td>\n",
       "      <td>Kebbi</td>\n",
       "      <td>420</td>\n",
       "    </tr>\n",
       "    <tr>\n",
       "      <th>7</th>\n",
       "      <td>ACE-3</td>\n",
       "      <td>Sokoto</td>\n",
       "      <td>443</td>\n",
       "    </tr>\n",
       "    <tr>\n",
       "      <th>8</th>\n",
       "      <td>ACE-3</td>\n",
       "      <td>Zamfara</td>\n",
       "      <td>322</td>\n",
       "    </tr>\n",
       "    <tr>\n",
       "      <th>9</th>\n",
       "      <td>ACE-4</td>\n",
       "      <td>Niger</td>\n",
       "      <td>651</td>\n",
       "    </tr>\n",
       "    <tr>\n",
       "      <th>10</th>\n",
       "      <td>ACE-5</td>\n",
       "      <td>Akwa Ibom</td>\n",
       "      <td>4256</td>\n",
       "    </tr>\n",
       "    <tr>\n",
       "      <th>11</th>\n",
       "      <td>ACE-5</td>\n",
       "      <td>Cross River</td>\n",
       "      <td>1557</td>\n",
       "    </tr>\n",
       "    <tr>\n",
       "      <th>12</th>\n",
       "      <td>ACE-6</td>\n",
       "      <td>Bayelsa</td>\n",
       "      <td>399</td>\n",
       "    </tr>\n",
       "    <tr>\n",
       "      <th>13</th>\n",
       "      <td>ACE-6</td>\n",
       "      <td>Edo</td>\n",
       "      <td>1312</td>\n",
       "    </tr>\n",
       "    <tr>\n",
       "      <th>14</th>\n",
       "      <td>ACE-6</td>\n",
       "      <td>Lagos</td>\n",
       "      <td>1874</td>\n",
       "    </tr>\n",
       "    <tr>\n",
       "      <th>15</th>\n",
       "      <td>KP CARE 1</td>\n",
       "      <td>Akwa Ibom</td>\n",
       "      <td>77</td>\n",
       "    </tr>\n",
       "    <tr>\n",
       "      <th>16</th>\n",
       "      <td>KP CARE 1</td>\n",
       "      <td>Bayelsa</td>\n",
       "      <td>20</td>\n",
       "    </tr>\n",
       "    <tr>\n",
       "      <th>17</th>\n",
       "      <td>KP CARE 1</td>\n",
       "      <td>Cross River</td>\n",
       "      <td>93</td>\n",
       "    </tr>\n",
       "    <tr>\n",
       "      <th>18</th>\n",
       "      <td>KP CARE 1</td>\n",
       "      <td>Edo</td>\n",
       "      <td>2</td>\n",
       "    </tr>\n",
       "    <tr>\n",
       "      <th>19</th>\n",
       "      <td>KP CARE 1</td>\n",
       "      <td>Jigawa</td>\n",
       "      <td>11</td>\n",
       "    </tr>\n",
       "    <tr>\n",
       "      <th>20</th>\n",
       "      <td>KP CARE 1</td>\n",
       "      <td>Lagos</td>\n",
       "      <td>121</td>\n",
       "    </tr>\n",
       "    <tr>\n",
       "      <th>21</th>\n",
       "      <td>KP CARE 1</td>\n",
       "      <td>Niger</td>\n",
       "      <td>8</td>\n",
       "    </tr>\n",
       "    <tr>\n",
       "      <th>22</th>\n",
       "      <td>KP CARE 1</td>\n",
       "      <td>Yobe</td>\n",
       "      <td>3</td>\n",
       "    </tr>\n",
       "    <tr>\n",
       "      <th>23</th>\n",
       "      <td>KP CARE 2</td>\n",
       "      <td>Adamawa</td>\n",
       "      <td>52</td>\n",
       "    </tr>\n",
       "    <tr>\n",
       "      <th>24</th>\n",
       "      <td>KP CARE 2</td>\n",
       "      <td>Bauchi</td>\n",
       "      <td>6</td>\n",
       "    </tr>\n",
       "    <tr>\n",
       "      <th>25</th>\n",
       "      <td>KP CARE 2</td>\n",
       "      <td>Kebbi</td>\n",
       "      <td>158</td>\n",
       "    </tr>\n",
       "    <tr>\n",
       "      <th>26</th>\n",
       "      <td>KP CARE 2</td>\n",
       "      <td>Sokoto</td>\n",
       "      <td>92</td>\n",
       "    </tr>\n",
       "    <tr>\n",
       "      <th>27</th>\n",
       "      <td>KP CARE 2</td>\n",
       "      <td>Zamfara</td>\n",
       "      <td>58</td>\n",
       "    </tr>\n",
       "    <tr>\n",
       "      <th>28</th>\n",
       "      <td>TMEC-RISE</td>\n",
       "      <td>Taraba</td>\n",
       "      <td>1818</td>\n",
       "    </tr>\n",
       "  </tbody>\n",
       "</table>\n",
       "</div>"
      ],
      "text/plain": [
       "           IP        State  NDR Patient Identifier\n",
       "0       ACE-1      Adamawa                    1332\n",
       "1       ACE-1        Borno                     475\n",
       "2       ACE-1         Yobe                     246\n",
       "3       ACE-2       Bauchi                     869\n",
       "4       ACE-2       Jigawa                     204\n",
       "5       ACE-2         Kano                     668\n",
       "6       ACE-3        Kebbi                     420\n",
       "7       ACE-3       Sokoto                     443\n",
       "8       ACE-3      Zamfara                     322\n",
       "9       ACE-4        Niger                     651\n",
       "10      ACE-5    Akwa Ibom                    4256\n",
       "11      ACE-5  Cross River                    1557\n",
       "12      ACE-6      Bayelsa                     399\n",
       "13      ACE-6          Edo                    1312\n",
       "14      ACE-6        Lagos                    1874\n",
       "15  KP CARE 1    Akwa Ibom                      77\n",
       "16  KP CARE 1      Bayelsa                      20\n",
       "17  KP CARE 1  Cross River                      93\n",
       "18  KP CARE 1          Edo                       2\n",
       "19  KP CARE 1       Jigawa                      11\n",
       "20  KP CARE 1        Lagos                     121\n",
       "21  KP CARE 1        Niger                       8\n",
       "22  KP CARE 1         Yobe                       3\n",
       "23  KP CARE 2      Adamawa                      52\n",
       "24  KP CARE 2       Bauchi                       6\n",
       "25  KP CARE 2        Kebbi                     158\n",
       "26  KP CARE 2       Sokoto                      92\n",
       "27  KP CARE 2      Zamfara                      58\n",
       "28  TMEC-RISE       Taraba                    1818"
      ]
     },
     "execution_count": 64,
     "metadata": {},
     "output_type": "execute_result"
    }
   ],
   "source": [
    "clients_with_correct_OVC_Unique_ID_count"
   ]
  },
  {
   "cell_type": "code",
   "execution_count": 65,
   "id": "515b90dd",
   "metadata": {},
   "outputs": [],
   "source": [
    "# Generate the clients_with_correct_OVC_Unique_ID file\n",
    "file_path = os.path.join(folder_path, 'clients_with_correct_OVC_Unique_ID_count.csv')\n",
    "# Save the file to the specified folder\n",
    "clients_with_correct_OVC_Unique_ID_count.to_csv(file_path, index=False)"
   ]
  },
  {
   "cell_type": "code",
   "execution_count": 66,
   "id": "7ab4b845",
   "metadata": {},
   "outputs": [],
   "source": [
    "# Filter for rows where the OVC Unique ID does not match the pattern and is non-blank\n",
    "clients_with_incorrect_OVC_Unique_ID = TX_CURR[\n",
    "    TX_CURR['OVC Unique ID'].apply(lambda x: pd.notnull(x) and x != '' and not bool(re.match(pattern1, str(x))))]"
   ]
  },
  {
   "cell_type": "code",
   "execution_count": 67,
   "id": "84ae3aad",
   "metadata": {},
   "outputs": [],
   "source": [
    "# Generate the clients_with_correct_OVC_Unique_ID file\n",
    "file_path = os.path.join(folder_path, 'clients_with_incorrect_OVC_Unique_ID.csv')\n",
    "# Save the file to the specified folder\n",
    "clients_with_incorrect_OVC_Unique_ID.to_csv(file_path, index=False)"
   ]
  },
  {
   "cell_type": "code",
   "execution_count": 68,
   "id": "ac375054",
   "metadata": {},
   "outputs": [],
   "source": [
    "# Group by Implementing Partner and State and count the clients with incorrect OVC Unique ID From the Radet\n",
    "clients_with_incorrect_OVC_Unique_ID_count = clients_with_incorrect_OVC_Unique_ID.groupby(['IP', 'State']).size().reset_index(name='NDR Patient Identifier')"
   ]
  },
  {
   "cell_type": "code",
   "execution_count": 69,
   "id": "cbe35881",
   "metadata": {},
   "outputs": [
    {
     "data": {
      "text/html": [
       "<div>\n",
       "<style scoped>\n",
       "    .dataframe tbody tr th:only-of-type {\n",
       "        vertical-align: middle;\n",
       "    }\n",
       "\n",
       "    .dataframe tbody tr th {\n",
       "        vertical-align: top;\n",
       "    }\n",
       "\n",
       "    .dataframe thead th {\n",
       "        text-align: right;\n",
       "    }\n",
       "</style>\n",
       "<table border=\"1\" class=\"dataframe\">\n",
       "  <thead>\n",
       "    <tr style=\"text-align: right;\">\n",
       "      <th></th>\n",
       "      <th>IP</th>\n",
       "      <th>State</th>\n",
       "      <th>NDR Patient Identifier</th>\n",
       "    </tr>\n",
       "  </thead>\n",
       "  <tbody>\n",
       "    <tr>\n",
       "      <th>0</th>\n",
       "      <td>ACE-1</td>\n",
       "      <td>Adamawa</td>\n",
       "      <td>16</td>\n",
       "    </tr>\n",
       "    <tr>\n",
       "      <th>1</th>\n",
       "      <td>ACE-1</td>\n",
       "      <td>Yobe</td>\n",
       "      <td>1</td>\n",
       "    </tr>\n",
       "    <tr>\n",
       "      <th>2</th>\n",
       "      <td>ACE-2</td>\n",
       "      <td>Bauchi</td>\n",
       "      <td>59</td>\n",
       "    </tr>\n",
       "    <tr>\n",
       "      <th>3</th>\n",
       "      <td>ACE-2</td>\n",
       "      <td>Jigawa</td>\n",
       "      <td>1</td>\n",
       "    </tr>\n",
       "    <tr>\n",
       "      <th>4</th>\n",
       "      <td>ACE-2</td>\n",
       "      <td>Kano</td>\n",
       "      <td>152</td>\n",
       "    </tr>\n",
       "    <tr>\n",
       "      <th>5</th>\n",
       "      <td>ACE-3</td>\n",
       "      <td>Kebbi</td>\n",
       "      <td>8</td>\n",
       "    </tr>\n",
       "    <tr>\n",
       "      <th>6</th>\n",
       "      <td>ACE-3</td>\n",
       "      <td>Sokoto</td>\n",
       "      <td>7</td>\n",
       "    </tr>\n",
       "    <tr>\n",
       "      <th>7</th>\n",
       "      <td>ACE-3</td>\n",
       "      <td>Zamfara</td>\n",
       "      <td>2</td>\n",
       "    </tr>\n",
       "    <tr>\n",
       "      <th>8</th>\n",
       "      <td>ACE-4</td>\n",
       "      <td>Niger</td>\n",
       "      <td>130</td>\n",
       "    </tr>\n",
       "    <tr>\n",
       "      <th>9</th>\n",
       "      <td>ACE-5</td>\n",
       "      <td>Akwa Ibom</td>\n",
       "      <td>240</td>\n",
       "    </tr>\n",
       "    <tr>\n",
       "      <th>10</th>\n",
       "      <td>ACE-5</td>\n",
       "      <td>Cross River</td>\n",
       "      <td>37</td>\n",
       "    </tr>\n",
       "    <tr>\n",
       "      <th>11</th>\n",
       "      <td>ACE-6</td>\n",
       "      <td>Bayelsa</td>\n",
       "      <td>5</td>\n",
       "    </tr>\n",
       "    <tr>\n",
       "      <th>12</th>\n",
       "      <td>ACE-6</td>\n",
       "      <td>Lagos</td>\n",
       "      <td>4</td>\n",
       "    </tr>\n",
       "    <tr>\n",
       "      <th>13</th>\n",
       "      <td>KP CARE 1</td>\n",
       "      <td>Akwa Ibom</td>\n",
       "      <td>3</td>\n",
       "    </tr>\n",
       "    <tr>\n",
       "      <th>14</th>\n",
       "      <td>KP CARE 1</td>\n",
       "      <td>Jigawa</td>\n",
       "      <td>1</td>\n",
       "    </tr>\n",
       "    <tr>\n",
       "      <th>15</th>\n",
       "      <td>KP CARE 1</td>\n",
       "      <td>Lagos</td>\n",
       "      <td>4</td>\n",
       "    </tr>\n",
       "    <tr>\n",
       "      <th>16</th>\n",
       "      <td>KP CARE 2</td>\n",
       "      <td>Bauchi</td>\n",
       "      <td>1</td>\n",
       "    </tr>\n",
       "    <tr>\n",
       "      <th>17</th>\n",
       "      <td>KP CARE 2</td>\n",
       "      <td>Borno</td>\n",
       "      <td>13</td>\n",
       "    </tr>\n",
       "    <tr>\n",
       "      <th>18</th>\n",
       "      <td>KP CARE 2</td>\n",
       "      <td>Zamfara</td>\n",
       "      <td>1</td>\n",
       "    </tr>\n",
       "    <tr>\n",
       "      <th>19</th>\n",
       "      <td>TMEC-RISE</td>\n",
       "      <td>Taraba</td>\n",
       "      <td>2</td>\n",
       "    </tr>\n",
       "  </tbody>\n",
       "</table>\n",
       "</div>"
      ],
      "text/plain": [
       "           IP        State  NDR Patient Identifier\n",
       "0       ACE-1      Adamawa                      16\n",
       "1       ACE-1         Yobe                       1\n",
       "2       ACE-2       Bauchi                      59\n",
       "3       ACE-2       Jigawa                       1\n",
       "4       ACE-2         Kano                     152\n",
       "5       ACE-3        Kebbi                       8\n",
       "6       ACE-3       Sokoto                       7\n",
       "7       ACE-3      Zamfara                       2\n",
       "8       ACE-4        Niger                     130\n",
       "9       ACE-5    Akwa Ibom                     240\n",
       "10      ACE-5  Cross River                      37\n",
       "11      ACE-6      Bayelsa                       5\n",
       "12      ACE-6        Lagos                       4\n",
       "13  KP CARE 1    Akwa Ibom                       3\n",
       "14  KP CARE 1       Jigawa                       1\n",
       "15  KP CARE 1        Lagos                       4\n",
       "16  KP CARE 2       Bauchi                       1\n",
       "17  KP CARE 2        Borno                      13\n",
       "18  KP CARE 2      Zamfara                       1\n",
       "19  TMEC-RISE       Taraba                       2"
      ]
     },
     "execution_count": 69,
     "metadata": {},
     "output_type": "execute_result"
    }
   ],
   "source": [
    "clients_with_incorrect_OVC_Unique_ID_count"
   ]
  },
  {
   "cell_type": "code",
   "execution_count": 70,
   "id": "20b9df6d",
   "metadata": {},
   "outputs": [],
   "source": [
    "# Generate the clients_with_incorrect_OVC_Unique_ID_Count \n",
    "file_path = os.path.join(folder_path, 'clients_with_incorrect_OVC_Unique_ID_count.csv')\n",
    "# Save the file to the specified folder\n",
    "clients_with_incorrect_OVC_Unique_ID_count.to_csv(file_path, index=False)"
   ]
  },
  {
   "cell_type": "markdown",
   "id": "6ab52ea8",
   "metadata": {},
   "source": [
    "OVC BENEFICIARY LINELIST ANALYSIS"
   ]
  },
  {
   "cell_type": "code",
   "execution_count": 72,
   "id": "351b551e",
   "metadata": {},
   "outputs": [],
   "source": [
    "#Load the first collated OVC Beneficiary Linelist\n",
    "OVC1 = pd.read_excel('/Users/seyiabolarin/Desktop/CALHIV Analysis/Week 34 CALHIV/ICHSSA 1.xlsx')"
   ]
  },
  {
   "cell_type": "code",
   "execution_count": 73,
   "id": "a8e1b548",
   "metadata": {},
   "outputs": [],
   "source": [
    "#Load the second collated OVC Beneficiary Linelist\n",
    "OVC2 = pd.read_excel('/Users/seyiabolarin/Desktop/CALHIV Analysis/Week 34 CALHIV/ICHSSA 2.xlsx')"
   ]
  },
  {
   "cell_type": "code",
   "execution_count": 74,
   "id": "326b1252",
   "metadata": {},
   "outputs": [],
   "source": [
    "OVC3 = pd.read_excel('/Users/seyiabolarin/Desktop/CALHIV Analysis/Week 34 CALHIV/ICHSSA-3_.xls.xlsx')"
   ]
  },
  {
   "cell_type": "code",
   "execution_count": 75,
   "id": "3200a22f",
   "metadata": {},
   "outputs": [],
   "source": [
    "OVC4 = pd.read_excel('/Users/seyiabolarin/Desktop/CALHIV Analysis/Week 34 CALHIV/ICHSSA 4.xlsx')"
   ]
  },
  {
   "cell_type": "code",
   "execution_count": 76,
   "id": "f1deeb25",
   "metadata": {},
   "outputs": [],
   "source": [
    "# Concatenate the OVC Beneficiary linelist DataFrames\n",
    "merged_OVC_Linelist = pd.concat([OVC1, OVC2, OVC3, OVC4], ignore_index=True)"
   ]
  },
  {
   "cell_type": "code",
   "execution_count": 77,
   "id": "5b37715f",
   "metadata": {},
   "outputs": [
    {
     "name": "stdout",
     "output_type": "stream",
     "text": [
      "['State ', 'LGA', 'CBO', 'WARD', 'Community', 'Address', 'Date of Enrolment', 'HH UID', 'VC UID', \"Child's name\", 'Sex', 'Age at baseline', 'Baseline Age Unit', 'Current Age', 'Current Age Unit', 'Enrolment Stream', 'Baseline HIV Status', 'Risk-Assessed', 'At Risk', 'Referred for Testing', 'Curent HIV Status', 'Date of current HIV Status', 'Enrolled on ART', 'ART Start Date', 'Current ART Facility', 'HEI/ART UID', 'Number of Days for ARV Refill', 'Last Drug Pickup Date', 'Regimen at ART Start', 'Regimen Line at ART Start', 'Current Regimen', 'CurrentRegimen Line', 'Date of Start of Current ART  Regimen', 'Done Viral Load Test', 'Date of Viral Load Test', 'Current Viral Load (copies/ml)', 'Current ART Status', 'Date of current ART Status', 'Enhanced Adherence Counselling  (EAC) Commenced?', 'Baseline Birth Registration Status', 'Baseline Birth Registration Date', 'Current Birth Registration Status', 'Current Birth Registration Date', 'Baseline School Enrolment Status', 'Baseline Schoool Name', 'Baseline Child Class', 'Current School Enrolment Status', 'Current School Name', 'Current Child Class', 'Vocational Training Enrolment', 'Regularly Attends School/Voc. Training', 'Program Status', 'Service Date', 'Case Manager', 'Caregiver name', 'Caregiver sex', 'Caregiver Age', 'Caregiver Phone number ', 'Caregiver Baseline HIV Status', 'Caregiver Curent HIV Status', 'Caregiver Date of current HIV Status', 'Caregiver Enrolled on ART', 'Caregiver ART Enrolment Date', 'Caregiver Current ART Facility', 'Caregiver ART UID', 'Caregiver Last Drug Pickup Date', 'Caregiver Number of Days for ARV Refill', 'Caregiver Regimen at ART Start', 'Caregiver Regimen Line at ART Start', 'Caregiver Current Regimen', 'Caregiver Current Regimen Line', 'Caregiver Date of Start of Current ART  Regimen', 'Caregiver Done Viral Load Test', 'Caregiver Date of Viral Load Test', 'Caregiver Current Viral Load (copies/ml)', 'Caregiver Current ART Status', 'Caregiver Date of current ART Status', 'Caregiver Commenced Enhanced Adherence Counselling  (EAC)?', 'If  Caregiver Unsuppressed, has client switched regimen? (Yes/No)', 'HH withdrawn from Program', 'Date of withdrawal HH withdrew from program', 'Caregiver Service Date', 'IP']\n"
     ]
    }
   ],
   "source": [
    "OVC_list = list(merged_OVC_Linelist.columns)\n",
    "print(OVC_list)"
   ]
  },
  {
   "cell_type": "code",
   "execution_count": 78,
   "id": "22a79578",
   "metadata": {},
   "outputs": [],
   "source": [
    "# Generate the merged OVC Linelist\n",
    "file_path = os.path.join(folder_path, 'merged_OVC_Linelist.csv')\n",
    "# Save the file to the specified folder\n",
    "merged_OVC_Linelist.to_csv(file_path, index=False)"
   ]
  },
  {
   "cell_type": "code",
   "execution_count": 79,
   "id": "1475fcb3",
   "metadata": {},
   "outputs": [],
   "source": [
    "#Filter the Program Status from the OVC Beneficiary Linelist\n",
    "OVC_Program_Status = ['Program Status']"
   ]
  },
  {
   "cell_type": "code",
   "execution_count": 80,
   "id": "164064c1",
   "metadata": {},
   "outputs": [],
   "source": [
    "#List the categories found in the Current ART Status variable\n",
    "OVC_Program_Status_Categories = merged_OVC_Linelist['Program Status'].unique()"
   ]
  },
  {
   "cell_type": "code",
   "execution_count": 81,
   "id": "081d3830",
   "metadata": {},
   "outputs": [
    {
     "data": {
      "text/plain": [
       "array(['Active', 'Withdrawn from the program', 'Graduated from program',\n",
       "       'Migrated', 'Transferred', 'Known death', 'Age >18',\n",
       "       'Lost to follow-up', 'Not Active', 'Aged out ', 'Re-enrolled',\n",
       "       'ACTIVE'], dtype=object)"
      ]
     },
     "execution_count": 81,
     "metadata": {},
     "output_type": "execute_result"
    }
   ],
   "source": [
    "OVC_Program_Status_Categories"
   ]
  },
  {
   "cell_type": "code",
   "execution_count": 82,
   "id": "90cd7a10",
   "metadata": {},
   "outputs": [],
   "source": [
    "#Filter out only OVC Clients who are active\n",
    "Active_OVC_Clients = merged_OVC_Linelist[merged_OVC_Linelist['Program Status'].isin(['Active', 'ACTIVE','Re-enrolled'])]"
   ]
  },
  {
   "cell_type": "code",
   "execution_count": 83,
   "id": "e5b58d24",
   "metadata": {},
   "outputs": [],
   "source": [
    "#Filter the Current ART Status from the OVC Beneficiary Linelist\n",
    "OVC_Current_ART_Status = ['Current ART Status']"
   ]
  },
  {
   "cell_type": "code",
   "execution_count": 85,
   "id": "83b80487",
   "metadata": {},
   "outputs": [],
   "source": [
    "#List the categories found in the Current ART Status variable\n",
    "OVC_Current_ART_Status_Categories = Active_OVC_Clients['Current ART Status'].unique()"
   ]
  },
  {
   "cell_type": "code",
   "execution_count": 86,
   "id": "1743a1fe",
   "metadata": {},
   "outputs": [
    {
     "data": {
      "text/plain": [
       "array([nan, 'IIT', 'Active', 'ACTIVE'], dtype=object)"
      ]
     },
     "execution_count": 86,
     "metadata": {},
     "output_type": "execute_result"
    }
   ],
   "source": [
    "OVC_Current_ART_Status_Categories"
   ]
  },
  {
   "cell_type": "code",
   "execution_count": 87,
   "id": "f58c3c82",
   "metadata": {},
   "outputs": [],
   "source": [
    "#Filter out only OVC Clients who are active and ITT\n",
    "OVC_Current_ART_Status_Clients = Active_OVC_Clients[Active_OVC_Clients['Current ART Status'].isin(['IIT', 'Active','ACTIVE'])]"
   ]
  },
  {
   "cell_type": "code",
   "execution_count": 88,
   "id": "43ecd14b",
   "metadata": {},
   "outputs": [],
   "source": [
    "# Generate the Active and IIT OVC client Linelist\n",
    "file_path = os.path.join(folder_path, 'OVC_Current_ART_Status_Clients.csv')\n",
    "# Save the file to the specified folder\n",
    "OVC_Current_ART_Status_Clients.to_csv(file_path, index=False)"
   ]
  },
  {
   "cell_type": "code",
   "execution_count": 89,
   "id": "3ca9a2f1",
   "metadata": {},
   "outputs": [],
   "source": [
    "#Filter out OVC Clients with blank Current ART Status\n",
    "OVC_with_blank_Current_ART_Status_Clients = Active_OVC_Clients[~Active_OVC_Clients['Current ART Status'].isin(['IIT', 'Active','ACTIVE'])]"
   ]
  },
  {
   "cell_type": "code",
   "execution_count": 90,
   "id": "09287e9a",
   "metadata": {},
   "outputs": [],
   "source": [
    "# Generate the Active OVC client Linelist\n",
    "file_path = os.path.join(folder_path, 'OVC_with_blank_Current_ART_Status_Clients.csv')\n",
    "# Save the file to the specified folder\n",
    "OVC_with_blank_Current_ART_Status_Clients.to_csv(file_path, index=False)"
   ]
  },
  {
   "cell_type": "code",
   "execution_count": 91,
   "id": "9943bac3",
   "metadata": {},
   "outputs": [],
   "source": [
    "#Filter the OVC Current HIV Status\n",
    "OVC_HIV_Filter = ['Curent HIV Status']"
   ]
  },
  {
   "cell_type": "code",
   "execution_count": 92,
   "id": "f953f70d",
   "metadata": {},
   "outputs": [],
   "source": [
    "OVC_HIV_categories = OVC_Current_ART_Status_Clients['Curent HIV Status'].unique()"
   ]
  },
  {
   "cell_type": "code",
   "execution_count": 93,
   "id": "0f0473c5",
   "metadata": {},
   "outputs": [
    {
     "data": {
      "text/plain": [
       "array(['HIV Positive', 'HIV Negative', 'Positive', 'Unknown', 'Negative',\n",
       "       'POSITIVE', nan], dtype=object)"
      ]
     },
     "execution_count": 93,
     "metadata": {},
     "output_type": "execute_result"
    }
   ],
   "source": [
    "OVC_HIV_categories"
   ]
  },
  {
   "cell_type": "code",
   "execution_count": 94,
   "id": "0c461a86",
   "metadata": {},
   "outputs": [],
   "source": [
    "#Filter out all OVC Clients with Current HIV Status as Positive\n",
    "OVC_with_HIV_Positive_Status = OVC_Current_ART_Status_Clients[OVC_Current_ART_Status_Clients['Curent HIV Status'].isin(['HIV Positive', 'Positive','positive','POSITIVE'])]"
   ]
  },
  {
   "cell_type": "code",
   "execution_count": 95,
   "id": "d45f63f0",
   "metadata": {},
   "outputs": [],
   "source": [
    "# Generate the Active OVC client Linelist\n",
    "file_path = os.path.join(folder_path, 'OVC_with_HIV_Positive_Status.csv')\n",
    "# Save the file to the specified folder\n",
    "OVC_with_HIV_Positive_Status.to_csv(file_path, index=False)"
   ]
  },
  {
   "cell_type": "code",
   "execution_count": 96,
   "id": "25c24063",
   "metadata": {},
   "outputs": [],
   "source": [
    "# Filter only clients with Current ART Facility records\n",
    "OVC_with_Facility_records = OVC_with_HIV_Positive_Status[OVC_with_HIV_Positive_Status['Current ART Facility'].notna() & (OVC_with_HIV_Positive_Status['Current ART Facility'].str.strip() != '')]"
   ]
  },
  {
   "cell_type": "code",
   "execution_count": 97,
   "id": "1a9b9473",
   "metadata": {},
   "outputs": [],
   "source": [
    "# Generate the Active OVC client Linelist\n",
    "file_path = os.path.join(folder_path, 'OVC_with_Facility_records.csv')\n",
    "# Save the file to the specified folder\n",
    "OVC_with_Facility_records.to_csv(file_path, index=False)"
   ]
  },
  {
   "cell_type": "code",
   "execution_count": 100,
   "id": "fabc37d2",
   "metadata": {},
   "outputs": [],
   "source": [
    "# Group the OVC Clients with Facility Records by State and Implementing Partner\n",
    "OVC_with_Facility_records_count = OVC_with_Facility_records.groupby(['State ']).size().reset_index(name='VC UID')"
   ]
  },
  {
   "cell_type": "code",
   "execution_count": 101,
   "id": "d0261240",
   "metadata": {},
   "outputs": [
    {
     "data": {
      "text/html": [
       "<div>\n",
       "<style scoped>\n",
       "    .dataframe tbody tr th:only-of-type {\n",
       "        vertical-align: middle;\n",
       "    }\n",
       "\n",
       "    .dataframe tbody tr th {\n",
       "        vertical-align: top;\n",
       "    }\n",
       "\n",
       "    .dataframe thead th {\n",
       "        text-align: right;\n",
       "    }\n",
       "</style>\n",
       "<table border=\"1\" class=\"dataframe\">\n",
       "  <thead>\n",
       "    <tr style=\"text-align: right;\">\n",
       "      <th></th>\n",
       "      <th>State</th>\n",
       "      <th>VC UID</th>\n",
       "    </tr>\n",
       "  </thead>\n",
       "  <tbody>\n",
       "    <tr>\n",
       "      <th>0</th>\n",
       "      <td>Adamawa</td>\n",
       "      <td>491</td>\n",
       "    </tr>\n",
       "    <tr>\n",
       "      <th>1</th>\n",
       "      <td>Akwa Ibom</td>\n",
       "      <td>1576</td>\n",
       "    </tr>\n",
       "    <tr>\n",
       "      <th>2</th>\n",
       "      <td>Bauchi</td>\n",
       "      <td>1156</td>\n",
       "    </tr>\n",
       "    <tr>\n",
       "      <th>3</th>\n",
       "      <td>Bayelsa</td>\n",
       "      <td>117</td>\n",
       "    </tr>\n",
       "    <tr>\n",
       "      <th>4</th>\n",
       "      <td>Borno</td>\n",
       "      <td>34</td>\n",
       "    </tr>\n",
       "    <tr>\n",
       "      <th>5</th>\n",
       "      <td>Cross River</td>\n",
       "      <td>966</td>\n",
       "    </tr>\n",
       "    <tr>\n",
       "      <th>6</th>\n",
       "      <td>Edo</td>\n",
       "      <td>1442</td>\n",
       "    </tr>\n",
       "    <tr>\n",
       "      <th>7</th>\n",
       "      <td>Jigawa</td>\n",
       "      <td>422</td>\n",
       "    </tr>\n",
       "    <tr>\n",
       "      <th>8</th>\n",
       "      <td>Kano</td>\n",
       "      <td>585</td>\n",
       "    </tr>\n",
       "    <tr>\n",
       "      <th>9</th>\n",
       "      <td>Kebbi</td>\n",
       "      <td>736</td>\n",
       "    </tr>\n",
       "    <tr>\n",
       "      <th>10</th>\n",
       "      <td>LAGOS</td>\n",
       "      <td>328</td>\n",
       "    </tr>\n",
       "    <tr>\n",
       "      <th>11</th>\n",
       "      <td>Lagos</td>\n",
       "      <td>1889</td>\n",
       "    </tr>\n",
       "    <tr>\n",
       "      <th>12</th>\n",
       "      <td>Niger</td>\n",
       "      <td>556</td>\n",
       "    </tr>\n",
       "    <tr>\n",
       "      <th>13</th>\n",
       "      <td>Sokoto</td>\n",
       "      <td>425</td>\n",
       "    </tr>\n",
       "    <tr>\n",
       "      <th>14</th>\n",
       "      <td>Taraba</td>\n",
       "      <td>376</td>\n",
       "    </tr>\n",
       "    <tr>\n",
       "      <th>15</th>\n",
       "      <td>Yobe</td>\n",
       "      <td>4</td>\n",
       "    </tr>\n",
       "    <tr>\n",
       "      <th>16</th>\n",
       "      <td>Zamfara</td>\n",
       "      <td>346</td>\n",
       "    </tr>\n",
       "  </tbody>\n",
       "</table>\n",
       "</div>"
      ],
      "text/plain": [
       "         State   VC UID\n",
       "0       Adamawa     491\n",
       "1     Akwa Ibom    1576\n",
       "2        Bauchi    1156\n",
       "3       Bayelsa     117\n",
       "4         Borno      34\n",
       "5   Cross River     966\n",
       "6           Edo    1442\n",
       "7        Jigawa     422\n",
       "8          Kano     585\n",
       "9         Kebbi     736\n",
       "10        LAGOS     328\n",
       "11        Lagos    1889\n",
       "12        Niger     556\n",
       "13       Sokoto     425\n",
       "14       Taraba     376\n",
       "15         Yobe       4\n",
       "16      Zamfara     346"
      ]
     },
     "execution_count": 101,
     "metadata": {},
     "output_type": "execute_result"
    }
   ],
   "source": [
    "OVC_with_Facility_records_count"
   ]
  },
  {
   "cell_type": "code",
   "execution_count": 102,
   "id": "91671ea9",
   "metadata": {},
   "outputs": [],
   "source": [
    "# Check if the Facility column has missing (NaN) or blank values in the OVC Linelist\n",
    "OVC_Client_with_missing_facility_Record = OVC_with_HIV_Positive_Status[OVC_with_HIV_Positive_Status['Current ART Facility'].isna() | (OVC_with_HIV_Positive_Status['Current ART Facility'] == '')]"
   ]
  },
  {
   "cell_type": "code",
   "execution_count": 103,
   "id": "1c1cf3b3",
   "metadata": {},
   "outputs": [],
   "source": [
    "# Generate the file for OVC clients with missing facility records\n",
    "file_path = os.path.join(folder_path, 'OVC_Client_with_missing_facility_Record.csv')\n",
    "# Save the file to the specified folder\n",
    "OVC_Client_with_missing_facility_Record.to_csv(file_path, index=False)"
   ]
  },
  {
   "cell_type": "code",
   "execution_count": 106,
   "id": "9a44da5e",
   "metadata": {},
   "outputs": [],
   "source": [
    "# Group the OVC Beneficiary Line data by State and Implementing Partner with missing facility records\n",
    "OVC_Client_with_missing_facility_Record_Count = OVC_Client_with_missing_facility_Record.groupby(['State ']).size().reset_index(name='VC UID')"
   ]
  },
  {
   "cell_type": "code",
   "execution_count": 107,
   "id": "ce61cc7e",
   "metadata": {},
   "outputs": [
    {
     "data": {
      "text/html": [
       "<div>\n",
       "<style scoped>\n",
       "    .dataframe tbody tr th:only-of-type {\n",
       "        vertical-align: middle;\n",
       "    }\n",
       "\n",
       "    .dataframe tbody tr th {\n",
       "        vertical-align: top;\n",
       "    }\n",
       "\n",
       "    .dataframe thead th {\n",
       "        text-align: right;\n",
       "    }\n",
       "</style>\n",
       "<table border=\"1\" class=\"dataframe\">\n",
       "  <thead>\n",
       "    <tr style=\"text-align: right;\">\n",
       "      <th></th>\n",
       "      <th>State</th>\n",
       "      <th>VC UID</th>\n",
       "    </tr>\n",
       "  </thead>\n",
       "  <tbody>\n",
       "    <tr>\n",
       "      <th>0</th>\n",
       "      <td>Adamawa</td>\n",
       "      <td>86</td>\n",
       "    </tr>\n",
       "    <tr>\n",
       "      <th>1</th>\n",
       "      <td>Akwa Ibom</td>\n",
       "      <td>99</td>\n",
       "    </tr>\n",
       "    <tr>\n",
       "      <th>2</th>\n",
       "      <td>Cross River</td>\n",
       "      <td>55</td>\n",
       "    </tr>\n",
       "    <tr>\n",
       "      <th>3</th>\n",
       "      <td>Kano</td>\n",
       "      <td>6</td>\n",
       "    </tr>\n",
       "    <tr>\n",
       "      <th>4</th>\n",
       "      <td>Kebbi</td>\n",
       "      <td>7</td>\n",
       "    </tr>\n",
       "    <tr>\n",
       "      <th>5</th>\n",
       "      <td>Niger</td>\n",
       "      <td>104</td>\n",
       "    </tr>\n",
       "    <tr>\n",
       "      <th>6</th>\n",
       "      <td>Sokoto</td>\n",
       "      <td>48</td>\n",
       "    </tr>\n",
       "  </tbody>\n",
       "</table>\n",
       "</div>"
      ],
      "text/plain": [
       "        State   VC UID\n",
       "0      Adamawa      86\n",
       "1    Akwa Ibom      99\n",
       "2  Cross River      55\n",
       "3         Kano       6\n",
       "4        Kebbi       7\n",
       "5        Niger     104\n",
       "6       Sokoto      48"
      ]
     },
     "execution_count": 107,
     "metadata": {},
     "output_type": "execute_result"
    }
   ],
   "source": [
    "OVC_Client_with_missing_facility_Record_Count"
   ]
  },
  {
   "cell_type": "code",
   "execution_count": 108,
   "id": "1c6684fe",
   "metadata": {},
   "outputs": [],
   "source": [
    "# Define the regex pattern for the correct OVC Unique ID format in the OVC Beneficiary Linelist\n",
    "pattern2 = r'^\\w{3}/\\w{3}/\\w{3}/\\w{5}/\\w{1,5}$'"
   ]
  },
  {
   "cell_type": "code",
   "execution_count": 117,
   "id": "a648e833",
   "metadata": {},
   "outputs": [],
   "source": [
    "# Filter for rows where the OVC Unique ID matches the pattern\n",
    "OVC_clients_with_correct_OVC_Unique_ID = OVC_with_Facility_records[OVC_with_Facility_records['VC UID'].apply(lambda x: bool(re.match(pattern2, str(x))))]"
   ]
  },
  {
   "cell_type": "code",
   "execution_count": 118,
   "id": "ba516b0b",
   "metadata": {},
   "outputs": [],
   "source": [
    "# Generate the Active OVC client Linelist\n",
    "file_path = os.path.join(folder_path, 'OVC_clients_with_correct_OVC_Unique_ID.csv')\n",
    "# Save the file to the specified folder\n",
    "OVC_clients_with_correct_OVC_Unique_ID.to_csv(file_path, index=False)"
   ]
  },
  {
   "cell_type": "code",
   "execution_count": 119,
   "id": "d69cf6a9",
   "metadata": {},
   "outputs": [],
   "source": [
    "# Filter for rows where the OVC Unique ID does not matches the pattern\n",
    "OVC_Clients_with_non_matching_ID = OVC_with_Facility_records[~OVC_with_Facility_records['VC UID'].apply(lambda x: bool(re.match(pattern2, str(x))))]"
   ]
  },
  {
   "cell_type": "code",
   "execution_count": 120,
   "id": "d6cca0c1",
   "metadata": {},
   "outputs": [],
   "source": [
    "# Generate the non_Matching_OVC_ID\n",
    "file_path = os.path.join(folder_path, 'OVC_Clients_with_non_matching_ID.csv')\n",
    "# Save the file to the specified folder\n",
    "OVC_Clients_with_non_matching_ID.to_csv(file_path, index=False)"
   ]
  },
  {
   "cell_type": "code",
   "execution_count": 121,
   "id": "2ed93098",
   "metadata": {},
   "outputs": [],
   "source": [
    "# Group the original OVC Beneficiary Line data by State and Implementing Partner with missing facility records\n",
    "OVC_Clients_with_non_matching_ID_Count = OVC_Clients_with_non_matching_ID.groupby(['State ']).size().reset_index(name='Client_count')"
   ]
  },
  {
   "cell_type": "code",
   "execution_count": 122,
   "id": "48991a05",
   "metadata": {},
   "outputs": [
    {
     "data": {
      "text/html": [
       "<div>\n",
       "<style scoped>\n",
       "    .dataframe tbody tr th:only-of-type {\n",
       "        vertical-align: middle;\n",
       "    }\n",
       "\n",
       "    .dataframe tbody tr th {\n",
       "        vertical-align: top;\n",
       "    }\n",
       "\n",
       "    .dataframe thead th {\n",
       "        text-align: right;\n",
       "    }\n",
       "</style>\n",
       "<table border=\"1\" class=\"dataframe\">\n",
       "  <thead>\n",
       "    <tr style=\"text-align: right;\">\n",
       "      <th></th>\n",
       "      <th>State</th>\n",
       "      <th>Client_count</th>\n",
       "    </tr>\n",
       "  </thead>\n",
       "  <tbody>\n",
       "    <tr>\n",
       "      <th>0</th>\n",
       "      <td>LAGOS</td>\n",
       "      <td>10</td>\n",
       "    </tr>\n",
       "  </tbody>\n",
       "</table>\n",
       "</div>"
      ],
      "text/plain": [
       "  State   Client_count\n",
       "0  LAGOS            10"
      ]
     },
     "execution_count": 122,
     "metadata": {},
     "output_type": "execute_result"
    }
   ],
   "source": [
    "OVC_Clients_with_non_matching_ID_Count"
   ]
  },
  {
   "cell_type": "code",
   "execution_count": 126,
   "id": "375efa56",
   "metadata": {},
   "outputs": [
    {
     "name": "stdout",
     "output_type": "stream",
     "text": [
      "   Serial Number    State     Current ART Facility     Facility Type\n",
      "0              1  Adamawa    adamawa hospital yola  General Facility\n",
      "1              2  Adamawa    boshong health clinic  General Facility\n",
      "2              3  Adamawa  cottage hospital, maiha  General Facility\n",
      "3              4  Adamawa  fufore cottage hospital  General Facility\n",
      "4              5  Adamawa   ganye general hospital  General Facility\n"
     ]
    },
    {
     "name": "stderr",
     "output_type": "stream",
     "text": [
      "/var/folders/s0/wn3tsb5j0f33bv1nfqclc_tm0000gn/T/ipykernel_56388/705855520.py:2: SettingWithCopyWarning: \n",
      "A value is trying to be set on a copy of a slice from a DataFrame.\n",
      "Try using .loc[row_indexer,col_indexer] = value instead\n",
      "\n",
      "See the caveats in the documentation: https://pandas.pydata.org/pandas-docs/stable/user_guide/indexing.html#returning-a-view-versus-a-copy\n",
      "  OVC_clients_with_correct_OVC_Unique_ID['Current ART Facility'] = OVC_clients_with_correct_OVC_Unique_ID['Current ART Facility'].str.lower()\n",
      "/var/folders/s0/wn3tsb5j0f33bv1nfqclc_tm0000gn/T/ipykernel_56388/705855520.py:8: SettingWithCopyWarning: \n",
      "A value is trying to be set on a copy of a slice from a DataFrame.\n",
      "Try using .loc[row_indexer,col_indexer] = value instead\n",
      "\n",
      "See the caveats in the documentation: https://pandas.pydata.org/pandas-docs/stable/user_guide/indexing.html#returning-a-view-versus-a-copy\n",
      "  OVC_clients_with_correct_OVC_Unique_ID['Facility Type'] = OVC_clients_with_correct_OVC_Unique_ID['Current ART Facility'].apply(\n"
     ]
    }
   ],
   "source": [
    "# Normalize the facility names to ensure consistent case comparison\n",
    "OVC_clients_with_correct_OVC_Unique_ID['Current ART Facility'] = OVC_clients_with_correct_OVC_Unique_ID['Current ART Facility'].str.lower()\n",
    "\n",
    "# Define keywords for identifying Key Population (KP) Facilities\n",
    "kp_keywords = ['oss', 'one stop shop','kp one stop shop','kp oss', 'kp one stop shop- virtual','kp one stop shop_  virtual','heartland alliance clinic','heartland alliance oss','heartland alliance','one stop shop- virtual']\n",
    "\n",
    "# Categorize Facilities\n",
    "OVC_clients_with_correct_OVC_Unique_ID['Facility Type'] = OVC_clients_with_correct_OVC_Unique_ID['Current ART Facility'].apply(\n",
    "    lambda x: 'KP Facility' if any(keyword in x for keyword in kp_keywords) else 'General Facility'\n",
    ")\n",
    "\n",
    "# Get unique values from the 'Current ART Facility' and 'State ' columns, including the new 'Facility Type' column\n",
    "unique_facilities_df = OVC_clients_with_correct_OVC_Unique_ID[['State ', 'Current ART Facility', 'Facility Type']].drop_duplicates()\n",
    "\n",
    "# Sort the DataFrame by 'State' and then by 'Current ART Facility' alphabetically\n",
    "unique_facilities_df = unique_facilities_df.sort_values(by=['State ', 'Current ART Facility']).reset_index(drop=True)\n",
    "\n",
    "# Add a serial number column\n",
    "unique_facilities_df.index += 1  # Start serial numbers at 1\n",
    "unique_facilities_df = unique_facilities_df.reset_index()\n",
    "\n",
    "# Rename columns for clarity\n",
    "unique_facilities_df.columns = ['Serial Number', 'State', 'Current ART Facility', 'Facility Type']\n",
    "\n",
    "# Save the result to an Excel file\n",
    "file_path = os.path.join(folder_path, 'unique_facilities_df.xlsx')\n",
    "\n",
    "# Save the file to the specified folder\n",
    "unique_facilities_df.to_excel(file_path, index=False)\n",
    "\n",
    "# Optionally, print a preview of the DataFrame\n",
    "print(unique_facilities_df.head())"
   ]
  },
  {
   "cell_type": "code",
   "execution_count": 127,
   "id": "3089b172",
   "metadata": {},
   "outputs": [],
   "source": [
    "# Assuming 'OVC_clients_with_correct_OVC_Unique_ID' already contains the 'Facility Type' column\n",
    "facility_counts = OVC_clients_with_correct_OVC_Unique_ID.groupby(['State ', 'Facility Type', 'Current ART Facility']).size().reset_index(name='Client Count')"
   ]
  },
  {
   "cell_type": "code",
   "execution_count": 128,
   "id": "93e4a89c",
   "metadata": {},
   "outputs": [],
   "source": [
    "# Pivot the DataFrame to get counts in separate columns for 'General Facilities' and 'KP Facilities'\n",
    "pivot_table = facility_counts.pivot_table(index=['State '], columns='Facility Type', values='Client Count', aggfunc='sum', fill_value=0).reset_index()\n",
    "\n",
    "# Rename the columns for clarity\n",
    "pivot_table.columns.name = None  # Remove the name of the columns\n",
    "pivot_table.columns = ['State ', 'General Facilities Count', 'KP Facilities Count']\n",
    "\n",
    "# Add a serial number column\n",
    "pivot_table.index += 1  # Start serial numbers at 1\n",
    "pivot_table = pivot_table.reset_index()\n",
    "pivot_table.rename(columns={'index': 'Serial Number'}, inplace=True)"
   ]
  },
  {
   "cell_type": "code",
   "execution_count": 129,
   "id": "4410aabb",
   "metadata": {},
   "outputs": [
    {
     "name": "stdout",
     "output_type": "stream",
     "text": [
      "    Serial Number       State   General Facilities Count  KP Facilities Count\n",
      "0               1      Adamawa                       476                   15\n",
      "1               2    Akwa Ibom                      1574                    2\n",
      "2               3       Bauchi                      1084                   72\n",
      "3               4      Bayelsa                       112                    5\n",
      "4               5        Borno                        34                    0\n",
      "5               6  Cross River                       939                   27\n",
      "6               7          Edo                      1427                   15\n",
      "7               8       Jigawa                       400                   22\n",
      "8               9         Kano                       585                    0\n",
      "9              10        Kebbi                       572                  164\n",
      "10             11        LAGOS                       318                    0\n",
      "11             12        Lagos                      1786                  103\n",
      "12             13        Niger                       556                    0\n",
      "13             14       Sokoto                       370                   55\n",
      "14             15       Taraba                       376                    0\n",
      "15             16         Yobe                         4                    0\n",
      "16             17      Zamfara                       300                   46\n"
     ]
    }
   ],
   "source": [
    "# Print the result\n",
    "print(pivot_table)"
   ]
  },
  {
   "cell_type": "code",
   "execution_count": 130,
   "id": "c764ff14",
   "metadata": {},
   "outputs": [
    {
     "name": "stdout",
     "output_type": "stream",
     "text": [
      "Pivot table saved successfully to /Users/seyiabolarin/Desktop/CALHIV Analysis/03.09.2024/pivot_table_output.xlsx\n"
     ]
    }
   ],
   "source": [
    "output_file_name = 'pivot_table_output.xlsx'  # Name of the Excel file\n",
    "output_file_path = os.path.join(folder_path, output_file_name)  # Correct way to combine paths\n",
    "\n",
    "# Save the pivot_table to the specified Excel file path\n",
    "pivot_table.to_excel(output_file_path, index=False)  # index=False to exclude the index from the Excel file\n",
    "\n",
    "print(f\"Pivot table saved successfully to {output_file_path}\")"
   ]
  },
  {
   "cell_type": "code",
   "execution_count": 131,
   "id": "199070a7",
   "metadata": {},
   "outputs": [
    {
     "name": "stdout",
     "output_type": "stream",
     "text": [
      "Total clients matching pattern: 11439\n"
     ]
    }
   ],
   "source": [
    "# Check how many clients match the correct OVC Unique ID pattern\n",
    "print(f\"Total clients matching pattern: {OVC_clients_with_correct_OVC_Unique_ID.shape[0]}\")"
   ]
  },
  {
   "cell_type": "code",
   "execution_count": 134,
   "id": "84adbf35",
   "metadata": {},
   "outputs": [
    {
     "name": "stderr",
     "output_type": "stream",
     "text": [
      "/var/folders/s0/wn3tsb5j0f33bv1nfqclc_tm0000gn/T/ipykernel_56388/1079783822.py:16: SettingWithCopyWarning: \n",
      "A value is trying to be set on a copy of a slice from a DataFrame.\n",
      "Try using .loc[row_indexer,col_indexer] = value instead\n",
      "\n",
      "See the caveats in the documentation: https://pandas.pydata.org/pandas-docs/stable/user_guide/indexing.html#returning-a-view-versus-a-copy\n",
      "  clients_with_correct_OVC_Unique_ID['OVC Unique ID'] = clients_with_correct_OVC_Unique_ID['OVC Unique ID'].apply(add_zeros_to_id)\n"
     ]
    }
   ],
   "source": [
    "# Assuming 'radet' is your DataFrame and 'OVC Unique ID' is the column name\n",
    "# Define the regex pattern for the specific format\n",
    "pattern3 = r'^(\\w{3}/\\w{3}/\\w{3}/\\w{5}/)(\\w)$'\n",
    "\n",
    "# Function to apply the transformation\n",
    "def add_zeros_to_id(ovc_id):\n",
    "    if isinstance(ovc_id, str):  # Ensure the ID is a string\n",
    "        # Check if the OVC Unique ID matches the pattern\n",
    "        match = re.match(pattern3, ovc_id)\n",
    "        if match:\n",
    "            # Modify the OVC Unique ID by adding '0000' before the last part\n",
    "            return f\"{match.group(1)}0000{match.group(2)}\"\n",
    "    return ovc_id  # Return the ID unchanged if it doesn't match the pattern or isn't a string\n",
    "\n",
    "# Apply the function to the 'OVC Unique ID' column\n",
    "clients_with_correct_OVC_Unique_ID['OVC Unique ID'] = clients_with_correct_OVC_Unique_ID['OVC Unique ID'].apply(add_zeros_to_id)"
   ]
  },
  {
   "cell_type": "code",
   "execution_count": 135,
   "id": "2cf4ff52",
   "metadata": {},
   "outputs": [
    {
     "name": "stdout",
     "output_type": "stream",
     "text": [
      "File saved successfully at: /Users/seyiabolarin/Desktop/CALHIV Analysis/03.09.2024/Updated_RADET_file.xlsx\n"
     ]
    }
   ],
   "source": [
    "# Specify the folder path where you want to save the file\n",
    "# Define the file name\n",
    "file_name = 'Updated_RADET_file.xlsx'\n",
    "\n",
    "# Combine the folder path and file name\n",
    "file_path = os.path.join(folder_path, file_name)\n",
    "\n",
    "# Save the DataFrame to an Excel file\n",
    "clients_with_correct_OVC_Unique_ID.to_excel(file_path, index=False)\n",
    "\n",
    "# Optionally print a confirmation message\n",
    "print(f\"File saved successfully at: {file_path}\")"
   ]
  },
  {
   "cell_type": "code",
   "execution_count": 136,
   "id": "69c06951",
   "metadata": {},
   "outputs": [
    {
     "name": "stderr",
     "output_type": "stream",
     "text": [
      "/var/folders/s0/wn3tsb5j0f33bv1nfqclc_tm0000gn/T/ipykernel_56388/3094603351.py:16: SettingWithCopyWarning: \n",
      "A value is trying to be set on a copy of a slice from a DataFrame.\n",
      "Try using .loc[row_indexer,col_indexer] = value instead\n",
      "\n",
      "See the caveats in the documentation: https://pandas.pydata.org/pandas-docs/stable/user_guide/indexing.html#returning-a-view-versus-a-copy\n",
      "  OVC_clients_with_correct_OVC_Unique_ID['VC UID'] = OVC_clients_with_correct_OVC_Unique_ID['VC UID'].apply(add_zeros_to_id)\n"
     ]
    }
   ],
   "source": [
    "# Assuming 'OVC' is your DataFrame and 'OVC Unique ID' is the column name\n",
    "# Define the regex pattern for the specific format\n",
    "pattern4 = r'^(\\w{3}/\\w{3}/\\w{3}/\\w{5}/)(\\w)$'\n",
    "\n",
    "# Function to apply the transformation\n",
    "def add_zeros_to_id(ovc_id):\n",
    "    if isinstance(ovc_id, str):  # Ensure the ID is a string\n",
    "        # Check if the OVC Unique ID matches the pattern\n",
    "        match = re.match(pattern4, ovc_id)\n",
    "        if match:\n",
    "            # Modify the OVC Unique ID by adding '0000' before the last part\n",
    "            return f\"{match.group(1)}0000{match.group(2)}\"\n",
    "    return ovc_id  # Return the ID unchanged if it doesn't match the pattern or isn't a string\n",
    "\n",
    "# Apply the function to the 'OVC Unique ID' column\n",
    "OVC_clients_with_correct_OVC_Unique_ID['VC UID'] = OVC_clients_with_correct_OVC_Unique_ID['VC UID'].apply(add_zeros_to_id)"
   ]
  },
  {
   "cell_type": "code",
   "execution_count": 137,
   "id": "61b83117",
   "metadata": {},
   "outputs": [
    {
     "name": "stdout",
     "output_type": "stream",
     "text": [
      "File saved successfully at: /Users/seyiabolarin/Desktop/CALHIV Analysis/03.09.2024/Updated_OVC_file.xlsx\n"
     ]
    }
   ],
   "source": [
    "# Define the file name\n",
    "file_name = 'Updated_OVC_file.xlsx'\n",
    "\n",
    "# Combine the folder path and file name\n",
    "file_path = os.path.join(folder_path, file_name)\n",
    "\n",
    "# Save the DataFrame to an Excel file\n",
    "OVC_clients_with_correct_OVC_Unique_ID.to_excel(file_path, index=False)\n",
    "\n",
    "# Optionally print a confirmation message\n",
    "print(f\"File saved successfully at: {file_path}\")"
   ]
  },
  {
   "cell_type": "markdown",
   "id": "9cafc615",
   "metadata": {},
   "source": [
    "CONCURRENCE ANALYSIS"
   ]
  },
  {
   "cell_type": "code",
   "execution_count": 138,
   "id": "810f0cb5",
   "metadata": {},
   "outputs": [],
   "source": [
    "# Load the RADET Excel file\n",
    "new_radet = pd.read_excel('/Users/seyiabolarin/Desktop/CALHIV Analysis/03.09.2024/Updated_RADET_file.xlsx')\n",
    "# Load the OVC file\n",
    "new_OVC = pd.read_excel('/Users/seyiabolarin/Desktop/CALHIV Analysis/03.09.2024/Updated_OVC_file.xlsx')"
   ]
  },
  {
   "cell_type": "code",
   "execution_count": 139,
   "id": "5e2f06ea",
   "metadata": {},
   "outputs": [],
   "source": [
    "# Merge the two DataFrames based on the OVC Unique ID in RADET and VC_ID in OVC_Line_List\n",
    "# Use a left join to keep all entries from the RADET file\n",
    "merged_radet_OVC = pd.merge(new_radet, new_OVC[['VC UID']], left_on='OVC Unique ID', right_on='VC UID', how='left')"
   ]
  },
  {
   "cell_type": "code",
   "execution_count": 140,
   "id": "e0009d42",
   "metadata": {},
   "outputs": [],
   "source": [
    "# Rename the VC_ID column to something meaningful in the merged DataFrame\n",
    "merged_radet_OVC.rename(columns={'VC UID': 'Matched VC_ID'}, inplace=True)\n",
    "\n",
    "# Optionally reorder the columns to place the new column next to the OVC Unique ID\n",
    "ovc_unique_id_index = merged_radet_OVC.columns.get_loc('OVC Unique ID')\n",
    "cols = merged_radet_OVC.columns.tolist()\n",
    "# Reorder columns: move 'Matched VC_ID' next to 'OVC Unique ID'\n",
    "cols.insert(ovc_unique_id_index + 1, cols.pop(cols.index('Matched VC_ID')))\n",
    "merged_radet_OVC = merged_radet_OVC[cols]"
   ]
  },
  {
   "cell_type": "code",
   "execution_count": 141,
   "id": "4f6e7c7a",
   "metadata": {},
   "outputs": [],
   "source": [
    "# Generate the Active OVC client Linelist\n",
    "file_path = os.path.join(folder_path, 'Concurrence_Analysis.xlsx')\n",
    "# Save the file to the specified folder\n",
    "merged_radet_OVC.to_excel(file_path, index=False)"
   ]
  },
  {
   "cell_type": "code",
   "execution_count": 146,
   "id": "a01eba72",
   "metadata": {},
   "outputs": [
    {
     "name": "stdout",
     "output_type": "stream",
     "text": [
      "zsh:1: command not found: jupyter\r\n"
     ]
    }
   ],
   "source": [
    "!jupyter nbconvert --to webpdf --allow-chromium-download CALHIV_HARMONIZATION_ANALYSIS_SEYI_ABOLARIN.ipynb"
   ]
  },
  {
   "cell_type": "code",
   "execution_count": null,
   "id": "1261c070",
   "metadata": {},
   "outputs": [],
   "source": []
  }
 ],
 "metadata": {
  "kernelspec": {
   "display_name": "Python 3 (ipykernel)",
   "language": "python",
   "name": "python3"
  },
  "language_info": {
   "codemirror_mode": {
    "name": "ipython",
    "version": 3
   },
   "file_extension": ".py",
   "mimetype": "text/x-python",
   "name": "python",
   "nbconvert_exporter": "python",
   "pygments_lexer": "ipython3",
   "version": "3.9.13"
  }
 },
 "nbformat": 4,
 "nbformat_minor": 5
}
