{
 "cells": [
  {
   "cell_type": "code",
   "execution_count": 1,
   "id": "03ea7765",
   "metadata": {},
   "outputs": [],
   "source": [
    "#To make use of geopy for coordinates scrapping, you will need to install and import all the neccessary libraries"
   ]
  },
  {
   "cell_type": "code",
   "execution_count": 2,
   "id": "95d6eb18",
   "metadata": {},
   "outputs": [
    {
     "name": "stdout",
     "output_type": "stream",
     "text": [
      "Requirement already satisfied: geopy in ./opt/anaconda3/lib/python3.9/site-packages (2.3.0)\n",
      "Requirement already satisfied: geographiclib<3,>=1.52 in ./opt/anaconda3/lib/python3.9/site-packages (from geopy) (2.0)\n",
      "Note: you may need to restart the kernel to use updated packages.\n"
     ]
    }
   ],
   "source": [
    "pip install geopy"
   ]
  },
  {
   "cell_type": "code",
   "execution_count": 3,
   "id": "a42d283c",
   "metadata": {},
   "outputs": [],
   "source": [
    "#openpyxl: allows you to install a library that will help you to open excel of all python outputs \n",
    "#geopy: This allows you to install the geopy libraries for geocoordinate of all places\n",
    "#pandas or pd\n",
    "#import"
   ]
  },
  {
   "cell_type": "code",
   "execution_count": 4,
   "id": "1e4b39f4",
   "metadata": {},
   "outputs": [],
   "source": [
    "import openpyxl as xls\n",
    "import pandas as pd\n",
    "import numpy as np\n",
    "import requests"
   ]
  },
  {
   "cell_type": "code",
   "execution_count": 5,
   "id": "def82b51",
   "metadata": {},
   "outputs": [],
   "source": [
    "#You can either make use of the ArcGIS world platform or use Nominatim Openstreet"
   ]
  },
  {
   "cell_type": "code",
   "execution_count": 6,
   "id": "60d0fdbb",
   "metadata": {},
   "outputs": [],
   "source": [
    "from geopy.geocoders import ArcGIS "
   ]
  },
  {
   "cell_type": "code",
   "execution_count": 7,
   "id": "eeaf8853",
   "metadata": {},
   "outputs": [],
   "source": [
    "#This is similar to using nom=Nominatim"
   ]
  },
  {
   "cell_type": "code",
   "execution_count": 8,
   "id": "ca7e038c",
   "metadata": {},
   "outputs": [],
   "source": [
    "nom=ArcGIS() "
   ]
  },
  {
   "cell_type": "code",
   "execution_count": 9,
   "id": "734f2f0b",
   "metadata": {},
   "outputs": [],
   "source": [
    "#You can also load an excel file using: df=pandas.read_excel('/Users/seyiabolarin/Desktop/Seyi Practice.xlsx') \n",
    "#df: This allows you to see a display of the DataFrame"
   ]
  },
  {
   "cell_type": "code",
   "execution_count": 10,
   "id": "e3e17294",
   "metadata": {},
   "outputs": [
    {
     "data": {
      "text/html": [
       "<div>\n",
       "<style scoped>\n",
       "    .dataframe tbody tr th:only-of-type {\n",
       "        vertical-align: middle;\n",
       "    }\n",
       "\n",
       "    .dataframe tbody tr th {\n",
       "        vertical-align: top;\n",
       "    }\n",
       "\n",
       "    .dataframe thead th {\n",
       "        text-align: right;\n",
       "    }\n",
       "</style>\n",
       "<table border=\"1\" class=\"dataframe\">\n",
       "  <thead>\n",
       "    <tr style=\"text-align: right;\">\n",
       "      <th></th>\n",
       "      <th>Facility Address</th>\n",
       "    </tr>\n",
       "  </thead>\n",
       "  <tbody>\n",
       "    <tr>\n",
       "      <th>0</th>\n",
       "      <td>ZhigbodoPrimary Healh Center, Izom Ward, Gura...</td>\n",
       "    </tr>\n",
       "    <tr>\n",
       "      <th>1</th>\n",
       "      <td>123 Clinic, Limawa B Ward, Chanchaga, Niger</td>\n",
       "    </tr>\n",
       "    <tr>\n",
       "      <th>2</th>\n",
       "      <td>123 Clinic, Makera Ward, Chanchaga, Niger</td>\n",
       "    </tr>\n",
       "    <tr>\n",
       "      <th>3</th>\n",
       "      <td>123 Clinic, Minna Central Ward, Chanchaga, Niger</td>\n",
       "    </tr>\n",
       "    <tr>\n",
       "      <th>4</th>\n",
       "      <td>123 Clinic, Nassarawa A Ward, Chanchaga, Niger</td>\n",
       "    </tr>\n",
       "    <tr>\n",
       "      <th>...</th>\n",
       "      <td>...</td>\n",
       "    </tr>\n",
       "    <tr>\n",
       "      <th>192</th>\n",
       "      <td>Umar Musa Yaradua General Hospital, Wuse West ...</td>\n",
       "    </tr>\n",
       "    <tr>\n",
       "      <th>193</th>\n",
       "      <td>Umar Musa Yaradua General Hospital, Zuma East ...</td>\n",
       "    </tr>\n",
       "    <tr>\n",
       "      <th>194</th>\n",
       "      <td>Wupo Primary Health Centre, Kudu Ward, Mokwa, ...</td>\n",
       "    </tr>\n",
       "    <tr>\n",
       "      <th>195</th>\n",
       "      <td>Wyela Dispensary, Lambata Ward, Gurara, Niger</td>\n",
       "    </tr>\n",
       "    <tr>\n",
       "      <th>196</th>\n",
       "      <td>Zabaidna Dispensary, Kabo Ward, Gurara, Niger</td>\n",
       "    </tr>\n",
       "  </tbody>\n",
       "</table>\n",
       "<p>197 rows × 1 columns</p>\n",
       "</div>"
      ],
      "text/plain": [
       "                                      Facility Address\n",
       "0     ZhigbodoPrimary Healh Center, Izom Ward, Gura...\n",
       "1          123 Clinic, Limawa B Ward, Chanchaga, Niger\n",
       "2            123 Clinic, Makera Ward, Chanchaga, Niger\n",
       "3     123 Clinic, Minna Central Ward, Chanchaga, Niger\n",
       "4       123 Clinic, Nassarawa A Ward, Chanchaga, Niger\n",
       "..                                                 ...\n",
       "192  Umar Musa Yaradua General Hospital, Wuse West ...\n",
       "193  Umar Musa Yaradua General Hospital, Zuma East ...\n",
       "194  Wupo Primary Health Centre, Kudu Ward, Mokwa, ...\n",
       "195      Wyela Dispensary, Lambata Ward, Gurara, Niger\n",
       "196      Zabaidna Dispensary, Kabo Ward, Gurara, Niger\n",
       "\n",
       "[197 rows x 1 columns]"
      ]
     },
     "execution_count": 10,
     "metadata": {},
     "output_type": "execute_result"
    }
   ],
   "source": [
    "xls = pd.ExcelFile('/Users/seyiabolarin/Desktop/Sormas/Data/Niger/Facility Address.xlsx')\n",
    "df = pd.read_excel(xls, 'Sheet1')\n",
    "df"
   ]
  },
  {
   "cell_type": "code",
   "execution_count": 11,
   "id": "2d2928ba",
   "metadata": {},
   "outputs": [],
   "source": [
    "#This helps to call out the geocoordinates requested"
   ]
  },
  {
   "cell_type": "code",
   "execution_count": 13,
   "id": "3ecdb7f8",
   "metadata": {},
   "outputs": [
    {
     "data": {
      "text/html": [
       "<div>\n",
       "<style scoped>\n",
       "    .dataframe tbody tr th:only-of-type {\n",
       "        vertical-align: middle;\n",
       "    }\n",
       "\n",
       "    .dataframe tbody tr th {\n",
       "        vertical-align: top;\n",
       "    }\n",
       "\n",
       "    .dataframe thead th {\n",
       "        text-align: right;\n",
       "    }\n",
       "</style>\n",
       "<table border=\"1\" class=\"dataframe\">\n",
       "  <thead>\n",
       "    <tr style=\"text-align: right;\">\n",
       "      <th></th>\n",
       "      <th>Facility Address</th>\n",
       "      <th>Coordinates</th>\n",
       "    </tr>\n",
       "  </thead>\n",
       "  <tbody>\n",
       "    <tr>\n",
       "      <th>0</th>\n",
       "      <td>ZhigbodoPrimary Healh Center, Izom Ward, Gura...</td>\n",
       "      <td>(Gurara, Niger, (9.312070000000062, 7.24117000...</td>\n",
       "    </tr>\n",
       "    <tr>\n",
       "      <th>1</th>\n",
       "      <td>123 Clinic, Limawa B Ward, Chanchaga, Niger</td>\n",
       "      <td>(Chanchaga, Niger, (9.613730000000032, 6.54367...</td>\n",
       "    </tr>\n",
       "    <tr>\n",
       "      <th>2</th>\n",
       "      <td>123 Clinic, Makera Ward, Chanchaga, Niger</td>\n",
       "      <td>(Chanchaga, Niger, (9.613730000000032, 6.54367...</td>\n",
       "    </tr>\n",
       "    <tr>\n",
       "      <th>3</th>\n",
       "      <td>123 Clinic, Minna Central Ward, Chanchaga, Niger</td>\n",
       "      <td>(Chanchaga, Niger, (9.613730000000032, 6.54367...</td>\n",
       "    </tr>\n",
       "    <tr>\n",
       "      <th>4</th>\n",
       "      <td>123 Clinic, Nassarawa A Ward, Chanchaga, Niger</td>\n",
       "      <td>(Chanchaga, Niger, (9.613730000000032, 6.54367...</td>\n",
       "    </tr>\n",
       "    <tr>\n",
       "      <th>...</th>\n",
       "      <td>...</td>\n",
       "      <td>...</td>\n",
       "    </tr>\n",
       "    <tr>\n",
       "      <th>192</th>\n",
       "      <td>Umar Musa Yaradua General Hospital, Wuse West ...</td>\n",
       "      <td>(Tafa, Niger, (9.244670000000042, 7.2860500000...</td>\n",
       "    </tr>\n",
       "    <tr>\n",
       "      <th>193</th>\n",
       "      <td>Umar Musa Yaradua General Hospital, Zuma East ...</td>\n",
       "      <td>(Tafa, Niger, (9.244670000000042, 7.2860500000...</td>\n",
       "    </tr>\n",
       "    <tr>\n",
       "      <th>194</th>\n",
       "      <td>Wupo Primary Health Centre, Kudu Ward, Mokwa, ...</td>\n",
       "      <td>(Primary Health Centre, (9.17933000000005, 7.1...</td>\n",
       "    </tr>\n",
       "    <tr>\n",
       "      <th>195</th>\n",
       "      <td>Wyela Dispensary, Lambata Ward, Gurara, Niger</td>\n",
       "      <td>(Gurara, Niger, (9.312070000000062, 7.24117000...</td>\n",
       "    </tr>\n",
       "    <tr>\n",
       "      <th>196</th>\n",
       "      <td>Zabaidna Dispensary, Kabo Ward, Gurara, Niger</td>\n",
       "      <td>(Gurara, Niger, (9.312070000000062, 7.24117000...</td>\n",
       "    </tr>\n",
       "  </tbody>\n",
       "</table>\n",
       "<p>197 rows × 2 columns</p>\n",
       "</div>"
      ],
      "text/plain": [
       "                                      Facility Address  \\\n",
       "0     ZhigbodoPrimary Healh Center, Izom Ward, Gura...   \n",
       "1          123 Clinic, Limawa B Ward, Chanchaga, Niger   \n",
       "2            123 Clinic, Makera Ward, Chanchaga, Niger   \n",
       "3     123 Clinic, Minna Central Ward, Chanchaga, Niger   \n",
       "4       123 Clinic, Nassarawa A Ward, Chanchaga, Niger   \n",
       "..                                                 ...   \n",
       "192  Umar Musa Yaradua General Hospital, Wuse West ...   \n",
       "193  Umar Musa Yaradua General Hospital, Zuma East ...   \n",
       "194  Wupo Primary Health Centre, Kudu Ward, Mokwa, ...   \n",
       "195      Wyela Dispensary, Lambata Ward, Gurara, Niger   \n",
       "196      Zabaidna Dispensary, Kabo Ward, Gurara, Niger   \n",
       "\n",
       "                                           Coordinates  \n",
       "0    (Gurara, Niger, (9.312070000000062, 7.24117000...  \n",
       "1    (Chanchaga, Niger, (9.613730000000032, 6.54367...  \n",
       "2    (Chanchaga, Niger, (9.613730000000032, 6.54367...  \n",
       "3    (Chanchaga, Niger, (9.613730000000032, 6.54367...  \n",
       "4    (Chanchaga, Niger, (9.613730000000032, 6.54367...  \n",
       "..                                                 ...  \n",
       "192  (Tafa, Niger, (9.244670000000042, 7.2860500000...  \n",
       "193  (Tafa, Niger, (9.244670000000042, 7.2860500000...  \n",
       "194  (Primary Health Centre, (9.17933000000005, 7.1...  \n",
       "195  (Gurara, Niger, (9.312070000000062, 7.24117000...  \n",
       "196  (Gurara, Niger, (9.312070000000062, 7.24117000...  \n",
       "\n",
       "[197 rows x 2 columns]"
      ]
     },
     "execution_count": 13,
     "metadata": {},
     "output_type": "execute_result"
    }
   ],
   "source": [
    "df['Coordinates']=df['Facility Address'].apply(nom.geocode)\n",
    "df"
   ]
  },
  {
   "cell_type": "code",
   "execution_count": null,
   "id": "5e43faa9",
   "metadata": {},
   "outputs": [],
   "source": [
    "#This line of code helps to include additional Latitude and Longitude column on the table and equally populate it"
   ]
  },
  {
   "cell_type": "code",
   "execution_count": 14,
   "id": "16f86574",
   "metadata": {
    "scrolled": true
   },
   "outputs": [
    {
     "data": {
      "text/html": [
       "<div>\n",
       "<style scoped>\n",
       "    .dataframe tbody tr th:only-of-type {\n",
       "        vertical-align: middle;\n",
       "    }\n",
       "\n",
       "    .dataframe tbody tr th {\n",
       "        vertical-align: top;\n",
       "    }\n",
       "\n",
       "    .dataframe thead th {\n",
       "        text-align: right;\n",
       "    }\n",
       "</style>\n",
       "<table border=\"1\" class=\"dataframe\">\n",
       "  <thead>\n",
       "    <tr style=\"text-align: right;\">\n",
       "      <th></th>\n",
       "      <th>Facility Address</th>\n",
       "      <th>Coordinates</th>\n",
       "      <th>Latitude</th>\n",
       "      <th>Longitude</th>\n",
       "    </tr>\n",
       "  </thead>\n",
       "  <tbody>\n",
       "    <tr>\n",
       "      <th>0</th>\n",
       "      <td>ZhigbodoPrimary Healh Center, Izom Ward, Gura...</td>\n",
       "      <td>(Gurara, Niger, (9.312070000000062, 7.24117000...</td>\n",
       "      <td>9.31207</td>\n",
       "      <td>7.24117</td>\n",
       "    </tr>\n",
       "    <tr>\n",
       "      <th>1</th>\n",
       "      <td>123 Clinic, Limawa B Ward, Chanchaga, Niger</td>\n",
       "      <td>(Chanchaga, Niger, (9.613730000000032, 6.54367...</td>\n",
       "      <td>9.61373</td>\n",
       "      <td>6.54367</td>\n",
       "    </tr>\n",
       "    <tr>\n",
       "      <th>2</th>\n",
       "      <td>123 Clinic, Makera Ward, Chanchaga, Niger</td>\n",
       "      <td>(Chanchaga, Niger, (9.613730000000032, 6.54367...</td>\n",
       "      <td>9.61373</td>\n",
       "      <td>6.54367</td>\n",
       "    </tr>\n",
       "    <tr>\n",
       "      <th>3</th>\n",
       "      <td>123 Clinic, Minna Central Ward, Chanchaga, Niger</td>\n",
       "      <td>(Chanchaga, Niger, (9.613730000000032, 6.54367...</td>\n",
       "      <td>9.61373</td>\n",
       "      <td>6.54367</td>\n",
       "    </tr>\n",
       "    <tr>\n",
       "      <th>4</th>\n",
       "      <td>123 Clinic, Nassarawa A Ward, Chanchaga, Niger</td>\n",
       "      <td>(Chanchaga, Niger, (9.613730000000032, 6.54367...</td>\n",
       "      <td>9.61373</td>\n",
       "      <td>6.54367</td>\n",
       "    </tr>\n",
       "    <tr>\n",
       "      <th>...</th>\n",
       "      <td>...</td>\n",
       "      <td>...</td>\n",
       "      <td>...</td>\n",
       "      <td>...</td>\n",
       "    </tr>\n",
       "    <tr>\n",
       "      <th>192</th>\n",
       "      <td>Umar Musa Yaradua General Hospital, Wuse West ...</td>\n",
       "      <td>(Tafa, Niger, (9.244670000000042, 7.2860500000...</td>\n",
       "      <td>9.24467</td>\n",
       "      <td>7.28605</td>\n",
       "    </tr>\n",
       "    <tr>\n",
       "      <th>193</th>\n",
       "      <td>Umar Musa Yaradua General Hospital, Zuma East ...</td>\n",
       "      <td>(Tafa, Niger, (9.244670000000042, 7.2860500000...</td>\n",
       "      <td>9.24467</td>\n",
       "      <td>7.28605</td>\n",
       "    </tr>\n",
       "    <tr>\n",
       "      <th>194</th>\n",
       "      <td>Wupo Primary Health Centre, Kudu Ward, Mokwa, ...</td>\n",
       "      <td>(Primary Health Centre, (9.17933000000005, 7.1...</td>\n",
       "      <td>9.17933</td>\n",
       "      <td>7.18028</td>\n",
       "    </tr>\n",
       "    <tr>\n",
       "      <th>195</th>\n",
       "      <td>Wyela Dispensary, Lambata Ward, Gurara, Niger</td>\n",
       "      <td>(Gurara, Niger, (9.312070000000062, 7.24117000...</td>\n",
       "      <td>9.31207</td>\n",
       "      <td>7.24117</td>\n",
       "    </tr>\n",
       "    <tr>\n",
       "      <th>196</th>\n",
       "      <td>Zabaidna Dispensary, Kabo Ward, Gurara, Niger</td>\n",
       "      <td>(Gurara, Niger, (9.312070000000062, 7.24117000...</td>\n",
       "      <td>9.31207</td>\n",
       "      <td>7.24117</td>\n",
       "    </tr>\n",
       "  </tbody>\n",
       "</table>\n",
       "<p>197 rows × 4 columns</p>\n",
       "</div>"
      ],
      "text/plain": [
       "                                      Facility Address  \\\n",
       "0     ZhigbodoPrimary Healh Center, Izom Ward, Gura...   \n",
       "1          123 Clinic, Limawa B Ward, Chanchaga, Niger   \n",
       "2            123 Clinic, Makera Ward, Chanchaga, Niger   \n",
       "3     123 Clinic, Minna Central Ward, Chanchaga, Niger   \n",
       "4       123 Clinic, Nassarawa A Ward, Chanchaga, Niger   \n",
       "..                                                 ...   \n",
       "192  Umar Musa Yaradua General Hospital, Wuse West ...   \n",
       "193  Umar Musa Yaradua General Hospital, Zuma East ...   \n",
       "194  Wupo Primary Health Centre, Kudu Ward, Mokwa, ...   \n",
       "195      Wyela Dispensary, Lambata Ward, Gurara, Niger   \n",
       "196      Zabaidna Dispensary, Kabo Ward, Gurara, Niger   \n",
       "\n",
       "                                           Coordinates  Latitude  Longitude  \n",
       "0    (Gurara, Niger, (9.312070000000062, 7.24117000...   9.31207    7.24117  \n",
       "1    (Chanchaga, Niger, (9.613730000000032, 6.54367...   9.61373    6.54367  \n",
       "2    (Chanchaga, Niger, (9.613730000000032, 6.54367...   9.61373    6.54367  \n",
       "3    (Chanchaga, Niger, (9.613730000000032, 6.54367...   9.61373    6.54367  \n",
       "4    (Chanchaga, Niger, (9.613730000000032, 6.54367...   9.61373    6.54367  \n",
       "..                                                 ...       ...        ...  \n",
       "192  (Tafa, Niger, (9.244670000000042, 7.2860500000...   9.24467    7.28605  \n",
       "193  (Tafa, Niger, (9.244670000000042, 7.2860500000...   9.24467    7.28605  \n",
       "194  (Primary Health Centre, (9.17933000000005, 7.1...   9.17933    7.18028  \n",
       "195  (Gurara, Niger, (9.312070000000062, 7.24117000...   9.31207    7.24117  \n",
       "196  (Gurara, Niger, (9.312070000000062, 7.24117000...   9.31207    7.24117  \n",
       "\n",
       "[197 rows x 4 columns]"
      ]
     },
     "execution_count": 14,
     "metadata": {},
     "output_type": "execute_result"
    }
   ],
   "source": [
    "df['Latitude']=df['Coordinates'].apply(lambda x: x.latitude if x !=None else None)\n",
    "df['Longitude']=df['Coordinates'].apply(lambda x: x.longitude if x !=None else None)\n",
    "df"
   ]
  },
  {
   "cell_type": "code",
   "execution_count": 15,
   "id": "03ccefd2",
   "metadata": {},
   "outputs": [],
   "source": [
    "#This allows you to generate the output of the geocoodinates"
   ]
  },
  {
   "cell_type": "code",
   "execution_count": 17,
   "id": "e4f5d895",
   "metadata": {},
   "outputs": [],
   "source": [
    "df.to_excel('Niger.xlsx') "
   ]
  }
 ],
 "metadata": {
  "kernelspec": {
   "display_name": "Python 3 (ipykernel)",
   "language": "python",
   "name": "python3"
  },
  "language_info": {
   "codemirror_mode": {
    "name": "ipython",
    "version": 3
   },
   "file_extension": ".py",
   "mimetype": "text/x-python",
   "name": "python",
   "nbconvert_exporter": "python",
   "pygments_lexer": "ipython3",
   "version": "3.9.13"
  }
 },
 "nbformat": 4,
 "nbformat_minor": 5
}
